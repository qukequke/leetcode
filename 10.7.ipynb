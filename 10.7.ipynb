{
 "cells": [
  {
   "cell_type": "code",
   "execution_count": 3,
   "metadata": {},
   "outputs": [
    {
     "name": "stdout",
     "output_type": "stream",
     "text": [
      "3\n",
      "1\n",
      "3\n",
      "1\n",
      "2\n",
      "2\n",
      "5\n"
     ]
    }
   ],
   "source": [
    "#3 最长连续子序列 \n",
    "def max_sub(nums):\n",
    "    start = 0\n",
    "    max_len = 0\n",
    "    dict_ = {}\n",
    "    for i, num in enumerate(nums):\n",
    "        if num not in dict_:\n",
    "            dict_[num] = i  \n",
    "        else:\n",
    "            pre = dict_[num]  \n",
    "            dict_[num] = i\n",
    "            if pre >= start:  #这个很关键  解决'abba'这种 s指向后面出现的\n",
    "                start = pre + 1\n",
    "        cur_len = i - start  + 1\n",
    "        max_len = max(cur_len, max_len)\n",
    "    return max_len\n",
    "print(max_sub(\"abcabcbb\"))\n",
    "print(max_sub(\"bbbbb\"))\n",
    "print(max_sub(\"pwwkew\"))\n",
    "print(max_sub(\" \"))\n",
    "print(max_sub(\"ab\"))\n",
    "print(max_sub(\"abba\"))\n",
    "print(max_sub(\"tmmzuxt\"))\n"
   ]
  },
  {
   "cell_type": "code",
   "execution_count": 87,
   "metadata": {},
   "outputs": [
    {
     "data": {
      "text/plain": [
       "42"
      ]
     },
     "execution_count": 87,
     "metadata": {},
     "output_type": "execute_result"
    }
   ],
   "source": [
    "#8 字符串中的整数转换为整数输出\n",
    "def myAtoi(str):\n",
    "    str = str.lstrip()\n",
    "    import re\n",
    "    str_obj = re.match('-?\\d+|\\+?\\d+', str) #使用正则匹配 ， |后面加了个\\ \n",
    "    if not str_obj:\n",
    "        return 0\n",
    "    str_obj = str_obj.group()\n",
    "    if int(str_obj) > 0x7fffffff:\n",
    "        return 2147483648\n",
    "    if int(str_obj) < -0x7fffffff:\n",
    "        return -2147483648\n",
    "    return int(str_obj)\n",
    "myAtoi('+42')"
   ]
  },
  {
   "cell_type": "code",
   "execution_count": 102,
   "metadata": {},
   "outputs": [
    {
     "data": {
      "text/plain": [
       "28"
      ]
     },
     "execution_count": 102,
     "metadata": {},
     "output_type": "execute_result"
    }
   ],
   "source": [
    "#62 从左上角到右下角不同路径\n",
    "def dif_road(m, n):\n",
    "    ret = [[1 for x in range(n)] for _ in range(m)]\n",
    "    for i in range(1, m):\n",
    "        for j in range(1, n):\n",
    "            ret[i][j] = ret[i][j-1] + ret[i-1][j]\n",
    "#     print(ret)\n",
    "    return ret[m-1][n-1]\n",
    "dif_road(7, 3)"
   ]
  },
  {
   "cell_type": "code",
   "execution_count": 105,
   "metadata": {},
   "outputs": [
    {
     "data": {
      "text/plain": [
       "[[0, 0, 0], [0, 0, 0], [0, 0, 0]]"
      ]
     },
     "execution_count": 105,
     "metadata": {},
     "output_type": "execute_result"
    }
   ],
   "source": [
    "obstacleGrid = [\n",
    "  [0,0,0],\n",
    "  [0,1,0],\n",
    "  [0,0,0]\n",
    "]\n",
    "[[0 for i in range(len(obstacleGrid[0]))] for _ in range(len(obstacleGrid))]"
   ]
  },
  {
   "cell_type": "code",
   "execution_count": 13,
   "metadata": {},
   "outputs": [
    {
     "name": "stdout",
     "output_type": "stream",
     "text": [
      "0\n",
      "2\n",
      "1\n",
      "0\n"
     ]
    }
   ],
   "source": [
    "#63不同路径2  有障碍物   \n",
    "# 把有障碍物的地方路线数设为0 \n",
    "def uniquePathsWithObstacles(obstacleGrid):\n",
    "    n = len(obstacleGrid[0])\n",
    "    m = len(obstacleGrid)\n",
    "    ret = [[1 for i in range(len(obstacleGrid[0]))] for _ in range(len(obstacleGrid))]\n",
    "    for i in range(m):\n",
    "        for j in range(n):\n",
    "            if i == 0 and j != 0:  #第一行初始化\n",
    "                ret[i][j] = ret[i][j-1] #如果第一行 有一个0 它后面的也全是0\n",
    "                if obstacleGrid[i][j] == 1:\n",
    "                    ret[i][j] = 0\n",
    "            elif i==0 and j == 0:  #如果 0， 0 是障碍物 直接return 0\n",
    "                if obstacleGrid[0][0] == 1:\n",
    "                    return 0\n",
    "#                 continue\n",
    "            elif j ==0 and i != 0:  #第一列初始化\n",
    "                ret[i][j] = ret[i-1][j]\n",
    "                if obstacleGrid[i][j] == 1:\n",
    "                    ret[i][j] = 0\n",
    "            else: #剩下的计算通过上面的+下面的\n",
    "                ret[i][j] = ret[i][j-1] + ret[i-1][j]\n",
    "                if obstacleGrid[i][j] == 1:\n",
    "                    ret[i][j] = 0\n",
    "    return ret[m-1][n-1]\n",
    "    \n",
    "# uniquePathsWithObstacles(obstacleGrid)\n",
    "print(uniquePathsWithObstacles([[1,0]]))\n",
    "print(uniquePathsWithObstacles([[0,0,0],[0,1,0],[0,0,0]]))\n",
    "print(uniquePathsWithObstacles([[0,1],[0,0]]))\n",
    "print(uniquePathsWithObstacles([[0,0],[1,1],[0,0]]))\n"
   ]
  },
  {
   "cell_type": "code",
   "execution_count": 14,
   "metadata": {},
   "outputs": [
    {
     "name": "stdout",
     "output_type": "stream",
     "text": [
      "[[1, 4, 5], [2, 7, 6], [6, 8, 7]]\n"
     ]
    },
    {
     "data": {
      "text/plain": [
       "7"
      ]
     },
     "execution_count": 14,
     "metadata": {},
     "output_type": "execute_result"
    }
   ],
   "source": [
    "# 64 最小路径和  给一个grid从左上角走到右下角\n",
    "def minPathSum(grid):\n",
    "    \"\"\"\n",
    "    :type grid: List[List[int]]\n",
    "    :rtype: int\n",
    "    \"\"\"\n",
    "    ret = [[0 for _ in range(len(grid[0]))] for _ in range(len(grid))]\n",
    "    n = len(grid[0])\n",
    "    m = len(grid)\n",
    "    for i in range(m):\n",
    "        for j in range(n):\n",
    "            if i == 0 and j == 0:\n",
    "                ret[i][j] = grid[i][j]\n",
    "            elif i == 0:\n",
    "                ret[i][j] = ret[i][j-1] + grid[i][j]\n",
    "            elif j == 0:\n",
    "                ret[i][j] = ret[i-1][j] + grid[i][j]\n",
    "            else:\n",
    "                ret[i][j] = min(ret[i-1][j], ret[i][j-1]) + grid[i][j]\n",
    "#     print(ret)\n",
    "    return ret[m-1][n-1]\n",
    "minPathSum(\n",
    "[\n",
    "  [1,3,1],\n",
    "  [1,5,1],\n",
    "  [4,2,1]\n",
    "])"
   ]
  },
  {
   "cell_type": "code",
   "execution_count": 86,
   "metadata": {},
   "outputs": [
    {
     "data": {
      "text/plain": [
       "True"
      ]
     },
     "execution_count": 86,
     "metadata": {},
     "output_type": "execute_result"
    }
   ],
   "source": [
    "#139 单词拆分\n",
    "#注意一下切片 用正常 长度是取不到最后一个的。用直接索引可以取到最后一个\n",
    "#比如长度是8 0-7  最大是7 s[7]可以取到最后一个  [:7] 切片不行\n",
    "def wordBreak(s, wordDict):\n",
    "    s_len = len(s)\n",
    "    dp = [False for _ in range(s_len)]\n",
    "    for i in range(s_len):\n",
    "        for j, word in enumerate(wordDict): #每个单词尝试\n",
    "            len_word = len(word)#下面一行第一个条件为了不崩，第二个判断dp或者是第一个，第三个判断单词相等\n",
    "            if i-len_word + 1 >= 0 and (dp[i-len_word] == True or i-len_word+1 == 0) and s[i+1-len_word:i + 1] == wordDict[j]:\n",
    "                dp[i] = True\n",
    "                break\n",
    "#     print(dp)\n",
    "    return dp[-1]\n",
    "# wordBreak(\"a\", [\"a\"])\n",
    "# wordBreak(\"abcd\", [\"a\",\"abc\",\"b\",\"cd\"])\n",
    "# wordBreak(\"aaaaaaa\", [\"aaaa\",\"aaa\"])\n",
    "wordBreak('leetcode', ['leet', 'code'])"
   ]
  },
  {
   "cell_type": "code",
   "execution_count": 109,
   "metadata": {},
   "outputs": [
    {
     "name": "stdout",
     "output_type": "stream",
     "text": [
      "[[-1], [1, 2], [2, 0, -1]]\n"
     ]
    },
    {
     "data": {
      "text/plain": [
       "-1"
      ]
     },
     "execution_count": 109,
     "metadata": {},
     "output_type": "execute_result"
    }
   ],
   "source": [
    "#120 三角形最小路径和\n",
    "def minimumTotal(triangle):\n",
    "    \"\"\"\n",
    "    :type triangle: List[List[int]]\n",
    "    :rtype: int\n",
    "    \"\"\"\n",
    "    m = len(triangle)\n",
    "    opt = triangle.copy()\n",
    "    path_sum = 0\n",
    "    j = 0\n",
    "    for i in range(1, m):\n",
    "        for j in range(len(triangle[i])):\n",
    "            layer_len = len(triangle[i])\n",
    "            if j == 0:\n",
    "                opt[i][j] = opt[i-1][j] + triangle[i][j]\n",
    "            elif j == layer_len-1:\n",
    "                opt[i][j] = opt[i-1][-1] + triangle[i][j]\n",
    "            else:\n",
    "                opt[i][j] = min(opt[i-1][j-1], opt[i-1][j]) + triangle[i][j]\n",
    "#     print(opt)\n",
    "    return min(opt[-1]) \n",
    "# minimumTotal([\n",
    "#      [2],\n",
    "#     [3,4],\n",
    "#    [6,5,7],\n",
    "#   [4,1,8,3]\n",
    "# ])\n",
    "minimumTotal([[-1],[2,3],[1,-1,-3]])"
   ]
  },
  {
   "cell_type": "code",
   "execution_count": null,
   "metadata": {
    "collapsed": true
   },
   "outputs": [],
   "source": [
    "#2 两数相加\n",
    "def addTwoNumbers(l1, l2):\n",
    "    \"\"\"\n",
    "    :type l1: ListNode\n",
    "    :type l2: ListNode\n",
    "    :rtype: ListNode\n",
    "    \"\"\"\n",
    "    if l1 is None:\n",
    "        return l2\n",
    "    if l2 is None:\n",
    "        return l1\n",
    "    ret = ListNode(0)\n",
    "    temp = ret\n",
    "    flag = 0\n",
    "    while l1 or l2:\n",
    "        temp_sum = 0\n",
    "        if l1:\n",
    "            temp_sum += l1.val\n",
    "            l1 = l1.next\n",
    "        if l2:\n",
    "            temp_sum += l2.val\n",
    "            l2 = l2.next\n",
    "        temp_sum += flag\n",
    "        val = temp_sum % 10\n",
    "        flag = temp_sum // 10\n",
    "        temp.next = ListNode(val)\n",
    "        temp = temp.next\n",
    "    if flag:\n",
    "        temp.next = ListNode(1)\n",
    "    return ret.next"
   ]
  },
  {
   "cell_type": "code",
   "execution_count": 129,
   "metadata": {},
   "outputs": [
    {
     "name": "stdout",
     "output_type": "stream",
     "text": [
      "[1, 2, 3, 4, 5, 3, 4, 4, 5]\n"
     ]
    },
    {
     "data": {
      "text/plain": [
       "5"
      ]
     },
     "execution_count": 129,
     "metadata": {},
     "output_type": "execute_result"
    }
   ],
   "source": [
    "#300 TL\n",
    "def lengthOfLIS(nums):\n",
    "    \"\"\" \n",
    "    :type nums: List[int]\n",
    "    :rtype: int\n",
    "    \"\"\"        \n",
    "    a=[1]*len(nums)        \n",
    "    if len(nums)==0:            \n",
    "        return 0        \n",
    "    for i in range(1,len(nums)):            \n",
    "        for j in range(0,i):                \n",
    "            if(nums[i]>nums[j]):                    \n",
    "                a[i]=max(a[i],a[j]+1) \n",
    "#                 a[i] = a[j] + 1   #这样只取了在循环中的最后一次 不一定是最大的那个  [1,3,6,7,9,4,10,5,6]会出错\n",
    "    print(a) \n",
    "    return max(a)\n",
    "# lengthOfLIS([10,9,2,5,3,7,101,18])\n",
    "# print(lengthOfLIS([4,10,4,3,8,9]))\n",
    "lengthOfLIS([1,3,6,7,9,4,10,5,6])"
   ]
  },
  {
   "cell_type": "code",
   "execution_count": 201,
   "metadata": {},
   "outputs": [
    {
     "name": "stdout",
     "output_type": "stream",
     "text": [
      "1\n",
      "3\n",
      "5\n"
     ]
    },
    {
     "data": {
      "text/plain": [
       "True"
      ]
     },
     "execution_count": 201,
     "metadata": {},
     "output_type": "execute_result"
    }
   ],
   "source": [
    "def isSubsequence(s, t):\n",
    "    \"\"\"\n",
    "    :type s: str\n",
    "    :type t: str\n",
    "    :rtype: bool\n",
    "    \"\"\"\n",
    "    temp = 0\n",
    "    for i in s:\n",
    "        try:\n",
    "            index = t.index(i, temp)\n",
    "#             print(index)\n",
    "            temp = index + 1\n",
    "        except Exception:\n",
    "            return False\n",
    "    return True\n",
    "isSubsequence(\"lee\",\"alaebe\")"
   ]
  },
  {
   "cell_type": "code",
   "execution_count": 10,
   "metadata": {},
   "outputs": [
    {
     "data": {
      "text/plain": [
       "[[4, 3, 1, 2],\n",
       " [3, 4, 1, 2],\n",
       " [3, 1, 4, 2],\n",
       " [3, 1, 2, 4],\n",
       " [4, 1, 3, 2],\n",
       " [1, 4, 3, 2],\n",
       " [1, 3, 4, 2],\n",
       " [1, 3, 2, 4],\n",
       " [4, 1, 2, 3],\n",
       " [1, 4, 2, 3],\n",
       " [1, 2, 4, 3],\n",
       " [1, 2, 3, 4],\n",
       " [4, 3, 2, 1],\n",
       " [3, 4, 2, 1],\n",
       " [3, 2, 4, 1],\n",
       " [3, 2, 1, 4],\n",
       " [4, 2, 3, 1],\n",
       " [2, 4, 3, 1],\n",
       " [2, 3, 4, 1],\n",
       " [2, 3, 1, 4],\n",
       " [4, 2, 1, 3],\n",
       " [2, 4, 1, 3],\n",
       " [2, 1, 4, 3],\n",
       " [2, 1, 3, 4]]"
      ]
     },
     "execution_count": 10,
     "metadata": {},
     "output_type": "execute_result"
    }
   ],
   "source": [
    "def quan_pailie(nums):\n",
    "    if len(nums) <= 1:\n",
    "        return [nums]\n",
    "    else:\n",
    "        output = [[nums[0], nums[1]], [nums[1], nums[0]]]\n",
    "        for i in range(2, len(nums)):\n",
    "            output_new = []\n",
    "            for j in range(len(output)):\n",
    "                for k in range(len(output[j]) + 1):\n",
    "                    temp = output[j].copy()\n",
    "                    temp.insert(k, nums[i])\n",
    "                    output_new.append(temp)\n",
    "            output = output_new\n",
    "#         print(output)\n",
    "        return output\n",
    "quan_pailie([1,2,3, 4])"
   ]
  },
  {
   "cell_type": "code",
   "execution_count": null,
   "metadata": {
    "collapsed": true
   },
   "outputs": [],
   "source": []
  }
 ],
 "metadata": {
  "kernelspec": {
   "display_name": "Python 3",
   "language": "python",
   "name": "python3"
  },
  "language_info": {
   "codemirror_mode": {
    "name": "ipython",
    "version": 3
   },
   "file_extension": ".py",
   "mimetype": "text/x-python",
   "name": "python",
   "nbconvert_exporter": "python",
   "pygments_lexer": "ipython3",
   "version": "3.6.2"
  }
 },
 "nbformat": 4,
 "nbformat_minor": 2
}
