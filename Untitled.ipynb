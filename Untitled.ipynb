{
 "cells": [
  {
   "cell_type": "code",
   "execution_count": 18,
   "metadata": {},
   "outputs": [
    {
     "name": "stdout",
     "output_type": "stream",
     "text": [
      "cur=1\n",
      "start=0\n",
      "len_=1\n",
      "max_len=1\n",
      "\n",
      "cur=2\n",
      "start=0\n",
      "len_=2\n",
      "max_len=2\n",
      "\n",
      "cur=3\n",
      "start=0\n",
      "len_=3\n",
      "max_len=3\n",
      "\n",
      "cur=2\n",
      "start=1\n",
      "len_=1\n",
      "max_len=3\n",
      "\n",
      "cur=3\n",
      "start=1\n",
      "len_=2\n",
      "max_len=3\n",
      "\n",
      "cur=4\n",
      "start=1\n",
      "len_=3\n",
      "max_len=3\n",
      "\n",
      "cur=3\n",
      "start=2\n",
      "len_=1\n",
      "max_len=3\n",
      "\n",
      "cur=4\n",
      "start=2\n",
      "len_=2\n",
      "max_len=3\n",
      "\n",
      "cur=5\n",
      "start=2\n",
      "len_=3\n",
      "max_len=3\n",
      "\n",
      "cur=4\n",
      "start=3\n",
      "len_=1\n",
      "max_len=3\n",
      "\n",
      "cur=5\n",
      "start=3\n",
      "len_=2\n",
      "max_len=3\n",
      "\n",
      "cur=6\n",
      "start=3\n",
      "len_=3\n",
      "max_len=3\n",
      "\n",
      "cur=5\n",
      "start=4\n",
      "len_=1\n",
      "max_len=3\n",
      "\n",
      "cur=6\n",
      "start=4\n",
      "len_=2\n",
      "max_len=3\n",
      "\n",
      "cur=6\n",
      "start=5\n",
      "len_=1\n",
      "max_len=3\n",
      "\n",
      "cur=7\n",
      "start=5\n",
      "len_=2\n",
      "max_len=3\n",
      "\n",
      "cur=7\n",
      "start=6\n",
      "len_=1\n",
      "max_len=3\n",
      "\n",
      "cur=8\n",
      "start=7\n",
      "len_=1\n",
      "max_len=3\n",
      "\n"
     ]
    },
    {
     "data": {
      "text/plain": [
       "3"
      ]
     },
     "execution_count": 18,
     "metadata": {},
     "output_type": "execute_result"
    }
   ],
   "source": [
    "# TL了\n",
    "#3. 无重复字符的最长子串\n",
    "def lengthOfLongestSubstring(s):\n",
    "    length = len(s)\n",
    "    start = 0\n",
    "    end = length\n",
    "    cur = 1\n",
    "    max_len = 1\n",
    "    len_ = 1\n",
    "    max_list = []\n",
    "    while start < end:\n",
    "        print('cur='+str(cur))\n",
    "        print('start='+str(start))\n",
    "        print('len_='+str(len_))\n",
    "        print('max_len='+str(max_len))\n",
    "        print('')\n",
    "        if cur < end and s[cur] not in list(s[start:cur]):\n",
    "            len_ += 1\n",
    "            cur += 1\n",
    "        else:\n",
    "            len_ = 1\n",
    "            start += 1\n",
    "            cur = start + 1\n",
    "        max_len = max(max_len, len_)\n",
    "    return max_len\n",
    "lengthOfLongestSubstring(\"abcabcbb\")"
   ]
  },
  {
   "cell_type": "code",
   "execution_count": 19,
   "metadata": {
    "collapsed": true
   },
   "outputs": [],
   "source": [
    "import scipy.io as sio"
   ]
  },
  {
   "cell_type": "code",
   "execution_count": 29,
   "metadata": {},
   "outputs": [
    {
     "name": "stdout",
     "output_type": "stream",
     "text": [
      "{2: ['a', 'b', 'c'], 3: ['d', 'e', 'f'], 4: ['g', 'h', 'i'], 5: ['j', 'k', 'l'], 6: ['m', 'n', 'o'], 7: ['p', 'q', 'r', 's'], 8: ['t', 'u', 'c'], 9: ['w', 'x', 'y', 'z']}\n"
     ]
    }
   ],
   "source": [
    "alpha = []\n",
    "for i in range(97, 123):    \n",
    "    alpha.append(chr(i))\n",
    "list_ = []\n",
    "c = {}\n",
    "for j in range(2, 8):\n",
    "    list_.append(alpha[3*j:3*(j+1)])\n",
    "    if j == 7:\n",
    "        c[j] = alpha[3*(j-2):3*j-2]\n",
    "    else:\n",
    "        c[j] = alpha[3*(j-2):3*(j-1)]\n",
    "c[8] = list('tuc')\n",
    "c[9] = list('wxyz')\n",
    "print(c)\n",
    "digits\n",
    "#         print(list_)"
   ]
  },
  {
   "cell_type": "code",
   "execution_count": 38,
   "metadata": {},
   "outputs": [
    {
     "data": {
      "text/plain": [
       "['dg', 'dh', 'di', 'eg', 'eh', 'ei', 'fg', 'fh', 'fi']"
      ]
     },
     "execution_count": 38,
     "metadata": {},
     "output_type": "execute_result"
    }
   ],
   "source": [
    "#17. 电话号码的字母组合\n",
    "#  dfs题目\n",
    "def letterCombBT(digit, oldStrList, DigitDict):\n",
    "    return [dstr+i for dstr in oldStrList for i in DigitDict[digit]]\n",
    "\n",
    "def letterCombinations(digits):\n",
    "    \"\"\"\n",
    "    :type digits: str\n",
    "    :rtype: List[str]\n",
    "    \"\"\"\n",
    "    if digits == '':\n",
    "        return []\n",
    "    DigitDict=[' ','1', \"abc\", \"def\", \"ghi\", \"jkl\", \"mno\", \"pqrs\", \"tuv\", \"wxyz\"]\n",
    "    res = ['']\n",
    "    for d in digits:\n",
    "        res = letterCombBT(int(d),res, DigitDict)\n",
    "    return res\n",
    "\n",
    "letterCombinations('34')"
   ]
  },
  {
   "cell_type": "code",
   "execution_count": 39,
   "metadata": {
    "collapsed": true
   },
   "outputs": [],
   "source": [
    "import matplotlib.pyplot as plt\n"
   ]
  },
  {
   "cell_type": "code",
   "execution_count": null,
   "metadata": {
    "collapsed": true
   },
   "outputs": [],
   "source": [
    "plt.subplots()"
   ]
  },
  {
   "cell_type": "code",
   "execution_count": 5,
   "metadata": {},
   "outputs": [
    {
     "name": "stdout",
     "output_type": "stream",
     "text": [
      "(0, 1)\n"
     ]
    }
   ],
   "source": [
    "def twoSum(nums, target):\n",
    "    dict_ = {}\n",
    "    for i, num in enumerate(nums):\n",
    "        if target - num in dict_:\n",
    "            return dict_[target- num], i\n",
    "        dict_[num] = i\n",
    "    print(dict_)\n",
    "a = twoSum([1,2,3,4],3)\n",
    "print(a)"
   ]
  },
  {
   "cell_type": "code",
   "execution_count": 8,
   "metadata": {},
   "outputs": [
    {
     "data": {
      "text/plain": [
       "[1, 2, 4]"
      ]
     },
     "execution_count": 8,
     "metadata": {},
     "output_type": "execute_result"
    }
   ],
   "source": [
    "def plusOne(digits): #48%\n",
    "    \"\"\"\n",
    "    :type digits: List[int]\n",
    "    :rtype: List[int]\n",
    "    \"\"\"\n",
    "    ret = ''\n",
    "    for num in digits:\n",
    "       ret += str(num)\n",
    "    ret = int(ret) + 1\n",
    "    return [int(i) for i in str(ret)]\n",
    "plusOne([1,2,3])"
   ]
  },
  {
   "cell_type": "code",
   "execution_count": 12,
   "metadata": {},
   "outputs": [
    {
     "name": "stdout",
     "output_type": "stream",
     "text": [
      "[[1], [1, 1], [1, 2, 1], [1, 3, 3, 1]]\n"
     ]
    },
    {
     "data": {
      "text/plain": [
       "[[1], [1, 1], [1, 2, 1], [1, 3, 3, 1]]"
      ]
     },
     "execution_count": 12,
     "metadata": {},
     "output_type": "execute_result"
    }
   ],
   "source": [
    "def gen_rec(num):\n",
    "    if num == 0:\n",
    "        return []\n",
    "    ret = [[1]]\n",
    "    for i in range(num-1):\n",
    "        ret.append(list(map(lambda x,y:x+y, [0] + ret[-1], ret[-1] + [0])))\n",
    "    print(ret)\n",
    "    return ret\n",
    "gen_rec(4)"
   ]
  },
  {
   "cell_type": "code",
   "execution_count": 14,
   "metadata": {},
   "outputs": [
    {
     "name": "stdout",
     "output_type": "stream",
     "text": [
      "0\n",
      "1\n",
      "1\n",
      "2\n",
      "2\n",
      "3\n",
      "3\n",
      "4\n",
      "4\n",
      "5\n",
      "5\n",
      "2\n",
      "6\n",
      "1\n"
     ]
    }
   ],
   "source": [
    "a = [1,2,3,4,5,2,1]\n",
    "for x, y in zip(range(7), a):\n",
    "    print(x)\n",
    "    print(y)"
   ]
  },
  {
   "cell_type": "code",
   "execution_count": 32,
   "metadata": {},
   "outputs": [
    {
     "name": "stdout",
     "output_type": "stream",
     "text": [
      "[4, -3, -2, -3, 2]\n"
     ]
    },
    {
     "data": {
      "text/plain": [
       "[1, 5]"
      ]
     },
     "execution_count": 32,
     "metadata": {},
     "output_type": "execute_result"
    }
   ],
   "source": [
    "def findDisappearedNumbers(nums):\n",
    "    \"\"\"\n",
    "    :type nums: List[int]\n",
    "    :rtype: List[int]\n",
    "    \"\"\"\n",
    "    for i in range(len(nums)):\n",
    "        index = abs(nums[i]) -1\n",
    "        nums[index] = -abs(nums[index])\n",
    "    print(nums)\n",
    "    nums = [i+1 for i, x in enumerate(nums) if x > 0]\n",
    "    return nums\n",
    "findDisappearedNumbers([4, 3, 2, 3, 2])"
   ]
  },
  {
   "cell_type": "code",
   "execution_count": 33,
   "metadata": {},
   "outputs": [
    {
     "data": {
      "text/plain": [
       "3"
      ]
     },
     "execution_count": 33,
     "metadata": {},
     "output_type": "execute_result"
    }
   ],
   "source": [
    "def find_consecutive(nums):\n",
    "    cur_len = max_len = 0\n",
    "    for i in nums:\n",
    "        if i == 1:\n",
    "            cur_len += 1\n",
    "        else:\n",
    "            cur_len = 0\n",
    "        max_len = max(max_len, cur_len)\n",
    "    return max_len\n",
    "find_consecutive([2,1,1,1,4,1,1,2,4,1])"
   ]
  },
  {
   "cell_type": "code",
   "execution_count": 35,
   "metadata": {},
   "outputs": [
    {
     "data": {
      "text/plain": [
       "array([[ 0.30088529,  0.10645408],\n",
       "       [ 0.48249765,  0.33772203]])"
      ]
     },
     "execution_count": 35,
     "metadata": {},
     "output_type": "execute_result"
    }
   ],
   "source": [
    "import numpy as np\n",
    "a = np.random.rand(2,2)\n",
    "a"
   ]
  },
  {
   "cell_type": "code",
   "execution_count": 70,
   "metadata": {},
   "outputs": [
    {
     "name": "stdout",
     "output_type": "stream",
     "text": [
      "[2, 3, 4, 5]\n",
      "[1, 3, 4, 5]\n",
      "[1, 2, 4, 5]\n",
      "[1, 2, 3, 5]\n",
      "[1, 2, 3, 4]\n",
      "3\n",
      "[3, 1, 1]\n"
     ]
    },
    {
     "data": {
      "text/plain": [
       "2"
      ]
     },
     "execution_count": 70,
     "metadata": {},
     "output_type": "execute_result"
    }
   ],
   "source": [
    "def findPairs(nums, k):\n",
    "    \"\"\"\n",
    "    :type nums: List[int]\n",
    "    :type k: int\n",
    "    :rtype: int\n",
    "    \"\"\"\n",
    "    c = []\n",
    "    ret = 0\n",
    "    for i, num in enumerate(nums):\n",
    "        nums2 = nums.copy()\n",
    "        nums2.remove(num)\n",
    "        print(nums2)\n",
    "        if abs(k - num) in nums2:\n",
    "            ret += 1\n",
    "            c.append(abs(k-num))\n",
    "    print(ret)\n",
    "    print(c)\n",
    "    return len(set(c))\n",
    "#         print(c)\n",
    "findPairs([1,2,3,4,5], 4)"
   ]
  },
  {
   "cell_type": "code",
   "execution_count": 49,
   "metadata": {},
   "outputs": [
    {
     "data": {
      "text/plain": [
       "[1, 3]"
      ]
     },
     "execution_count": 49,
     "metadata": {},
     "output_type": "execute_result"
    }
   ],
   "source": [
    "a = [1,2,3]\n",
    "a.pop(1)\n",
    "a"
   ]
  },
  {
   "cell_type": "code",
   "execution_count": 50,
   "metadata": {},
   "outputs": [
    {
     "data": {
      "text/plain": [
       "[3]"
      ]
     },
     "execution_count": 50,
     "metadata": {},
     "output_type": "execute_result"
    }
   ],
   "source": [
    "a.remove(1)\n",
    "a"
   ]
  },
  {
   "cell_type": "code",
   "execution_count": 2,
   "metadata": {},
   "outputs": [
    {
     "ename": "TypeError",
     "evalue": "can only concatenate list (not \"int\") to list",
     "output_type": "error",
     "traceback": [
      "\u001b[1;31m---------------------------------------------------------------------------\u001b[0m",
      "\u001b[1;31mTypeError\u001b[0m                                 Traceback (most recent call last)",
      "\u001b[1;32m<ipython-input-2-914a23db384b>\u001b[0m in \u001b[0;36m<module>\u001b[1;34m()\u001b[0m\n\u001b[1;32m----> 1\u001b[1;33m \u001b[1;33m[\u001b[0m\u001b[1;36m2\u001b[0m\u001b[1;33m,\u001b[0m\u001b[1;36m2\u001b[0m\u001b[1;33m]\u001b[0m \u001b[1;33m+\u001b[0m \u001b[1;36m3\u001b[0m\u001b[1;33m\u001b[0m\u001b[0m\n\u001b[0m",
      "\u001b[1;31mTypeError\u001b[0m: can only concatenate list (not \"int\") to list"
     ]
    }
   ],
   "source": [
    "[2,2] + 3"
   ]
  },
  {
   "cell_type": "code",
   "execution_count": 3,
   "metadata": {},
   "outputs": [
    {
     "data": {
      "text/plain": [
       "{4, 5, 6}"
      ]
     },
     "execution_count": 3,
     "metadata": {},
     "output_type": "execute_result"
    }
   ],
   "source": [
    "set(n+3 for n in [1,2,3])"
   ]
  },
  {
   "cell_type": "code",
   "execution_count": null,
   "metadata": {},
   "outputs": [],
   "source": []
  },
  {
   "cell_type": "code",
   "execution_count": 10,
   "metadata": {},
   "outputs": [
    {
     "data": {
      "text/plain": [
       "3"
      ]
     },
     "execution_count": 10,
     "metadata": {},
     "output_type": "execute_result"
    }
   ],
   "source": [
    "def find_nea(nums):\n",
    "    cur_len = max_len = 0\n",
    "    for i in range(len(nums)-1):\n",
    "        if nums[i+1] - nums[i] > 0:\n",
    "            cur_len += 1\n",
    "        else:\n",
    "            cur_len = 0\n",
    "        max_len = max(max_len, cur_len)\n",
    "    return max_len + 1\n",
    "find_nea([2,6,4,8,10,9,15])"
   ]
  },
  {
   "cell_type": "code",
   "execution_count": 25,
   "metadata": {},
   "outputs": [
    {
     "name": "stdout",
     "output_type": "stream",
     "text": [
      "2\n",
      "2\n",
      "2\n"
     ]
    },
    {
     "data": {
      "text/plain": [
       "2"
      ]
     },
     "execution_count": 25,
     "metadata": {},
     "output_type": "execute_result"
    }
   ],
   "source": [
    "def find_nea(nums):\n",
    "#     index = 0\n",
    "    max_len = 0\n",
    "    for index in range(len(nums)):\n",
    "        nums2 = []\n",
    "        while nums[index] not in nums2:\n",
    "            nums2.append(nums[index])\n",
    "            index = nums[index]\n",
    "        max_len = max(max_len, len(nums2))\n",
    "        print(max_len)\n",
    "    return max_len\n",
    "    \n",
    "#     print(nums2)\n",
    "# find_nea([5,4,0,3,1,6,2])\n",
    "find_nea([1, 0, 2])"
   ]
  },
  {
   "cell_type": "code",
   "execution_count": 42,
   "metadata": {},
   "outputs": [
    {
     "name": "stdout",
     "output_type": "stream",
     "text": [
      "----\n",
      "[0, 2, 1]\n",
      "0\n",
      "----\n",
      "[-1, 2, 1]\n",
      "2\n",
      "[-1, -1, 1]\n",
      "1\n",
      "----\n",
      "[[0], [2, 1]]\n"
     ]
    },
    {
     "data": {
      "text/plain": [
       "2"
      ]
     },
     "execution_count": 42,
     "metadata": {},
     "output_type": "execute_result"
    }
   ],
   "source": [
    "def find_nea(nums):\n",
    "#     index = 0\n",
    "    c = []\n",
    "    max_len = 0\n",
    "    for index in range(len(nums)):\n",
    "        nums2 = []\n",
    "        while nums[index] >= 0:\n",
    "            nums2.append(nums[index])\n",
    "            raw_index = index\n",
    "            index = nums[index]\n",
    "            nums[raw_index] = -1\n",
    "        if nums2:\n",
    "            c.append(nums2)\n",
    "    return max(len(x) for x in c)\n",
    "find_nea([0, 2, 1])"
   ]
  },
  {
   "cell_type": "code",
   "execution_count": 69,
   "metadata": {},
   "outputs": [
    {
     "name": "stdout",
     "output_type": "stream",
     "text": [
      "index 1\n",
      "counter 2\n",
      "index 2\n",
      "counter 1\n",
      "index 3\n",
      "counter 2\n",
      "index 3\n",
      "counter 3\n",
      "index 4\n",
      "counter 1\n",
      "index 5\n",
      "counter 1\n",
      "index 6\n",
      "counter 2\n",
      "7\n",
      "[0, 0, 1, 1, 2, 3, 3, 3]\n"
     ]
    }
   ],
   "source": [
    "def removeDuplicates(nums):\n",
    "    \"\"\"\n",
    "    :type nums: List[int] # 当counter超过2个时 index不动\n",
    "    :rtype: int\n",
    "    \"\"\"\n",
    "    index = 0\n",
    "    counter = 1 #从索引1 的元素开始 所以counter直接1开始\n",
    "    last_num = nums[0]\n",
    "    for num in nums[1:]:\n",
    "        if num == last_num:\n",
    "            counter += 1\n",
    "        else:\n",
    "            counter = 1\n",
    "        if index < len(nums)-1 and counter <= 2:\n",
    "            index += 1\n",
    "        print('index', index)\n",
    "        print('counter', counter)\n",
    "        nums[index] = num\n",
    "        last_num = num\n",
    "    return index+1 # 后面的元素不管  index+1是长度\n",
    "removeDuplicates([0, 0, 1, 1, 1, 2, 3,3])"
   ]
  },
  {
   "cell_type": "code",
   "execution_count": 71,
   "metadata": {},
   "outputs": [
    {
     "data": {
      "text/plain": [
       "<list_reverseiterator at 0x5e0a470>"
      ]
     },
     "execution_count": 71,
     "metadata": {},
     "output_type": "execute_result"
    }
   ],
   "source": [
    "reversed([12,3,34,4])"
   ]
  },
  {
   "cell_type": "code",
   "execution_count": 79,
   "metadata": {},
   "outputs": [
    {
     "name": "stdout",
     "output_type": "stream",
     "text": [
      "counter 1\n"
     ]
    },
    {
     "ename": "UnboundLocalError",
     "evalue": "local variable 'start_index' referenced before assignment",
     "output_type": "error",
     "traceback": [
      "\u001b[1;31m---------------------------------------------------------------------------\u001b[0m",
      "\u001b[1;31mUnboundLocalError\u001b[0m                         Traceback (most recent call last)",
      "\u001b[1;32m<ipython-input-79-447d29416ee7>\u001b[0m in \u001b[0;36m<module>\u001b[1;34m()\u001b[0m\n\u001b[0;32m     23\u001b[0m             \u001b[0mret\u001b[0m\u001b[1;33m.\u001b[0m\u001b[0mappend\u001b[0m\u001b[1;33m(\u001b[0m\u001b[0mc\u001b[0m\u001b[1;33m)\u001b[0m\u001b[1;33m\u001b[0m\u001b[0m\n\u001b[0;32m     24\u001b[0m     \u001b[1;32mreturn\u001b[0m \u001b[0mret\u001b[0m\u001b[1;33m\u001b[0m\u001b[0m\n\u001b[1;32m---> 25\u001b[1;33m \u001b[0mlargeGroupPositions\u001b[0m\u001b[1;33m(\u001b[0m\u001b[1;34m\"abbxxxxzzy\"\u001b[0m\u001b[1;33m)\u001b[0m\u001b[1;33m\u001b[0m\u001b[0m\n\u001b[0m",
      "\u001b[1;32m<ipython-input-79-447d29416ee7>\u001b[0m in \u001b[0;36mlargeGroupPositions\u001b[1;34m(S)\u001b[0m\n\u001b[0;32m      9\u001b[0m     \u001b[1;32mfor\u001b[0m \u001b[0mi\u001b[0m\u001b[1;33m,\u001b[0m \u001b[0mnum\u001b[0m \u001b[1;32min\u001b[0m \u001b[0menumerate\u001b[0m\u001b[1;33m(\u001b[0m\u001b[0mS\u001b[0m\u001b[1;33m[\u001b[0m\u001b[1;36m1\u001b[0m\u001b[1;33m:\u001b[0m\u001b[1;33m]\u001b[0m\u001b[1;33m)\u001b[0m\u001b[1;33m:\u001b[0m\u001b[1;33m\u001b[0m\u001b[0m\n\u001b[0;32m     10\u001b[0m         \u001b[0mprint\u001b[0m\u001b[1;33m(\u001b[0m\u001b[1;34m'counter'\u001b[0m\u001b[1;33m,\u001b[0m \u001b[0mcounter\u001b[0m\u001b[1;33m)\u001b[0m\u001b[1;33m\u001b[0m\u001b[0m\n\u001b[1;32m---> 11\u001b[1;33m         \u001b[0mprint\u001b[0m\u001b[1;33m(\u001b[0m\u001b[0mstart_index\u001b[0m\u001b[1;33m)\u001b[0m\u001b[1;33m\u001b[0m\u001b[0m\n\u001b[0m\u001b[0;32m     12\u001b[0m         \u001b[0mc\u001b[0m\u001b[1;33m=\u001b[0m \u001b[1;33m[\u001b[0m\u001b[1;33m]\u001b[0m\u001b[1;33m\u001b[0m\u001b[0m\n\u001b[0;32m     13\u001b[0m         \u001b[1;32mif\u001b[0m \u001b[0mlast_num\u001b[0m \u001b[1;33m==\u001b[0m \u001b[0mnum\u001b[0m\u001b[1;33m:\u001b[0m\u001b[1;33m\u001b[0m\u001b[0m\n",
      "\u001b[1;31mUnboundLocalError\u001b[0m: local variable 'start_index' referenced before assignment"
     ]
    }
   ],
   "source": [
    "def largeGroupPositions(S):\n",
    "    \"\"\"\n",
    "    :type S: str\n",
    "    :rtype: List[List[int]]\n",
    "    \"\"\"\n",
    "    counter = 1\n",
    "    ret = []\n",
    "    last_num = S[0]\n",
    "    for i, num in enumerate(S[1:]):\n",
    "        print('counter', counter)\n",
    "        print(start_index)\n",
    "        c= []\n",
    "        if last_num == num:\n",
    "            counter += 1\n",
    "        else:\n",
    "            start_index = i\n",
    "            counter = 1\n",
    "        if counter >= 4:\n",
    "            c.append(start_index)\n",
    "            c.append(i)\n",
    "        last_num = num\n",
    "        if len(c) == 2:\n",
    "            ret.append(c)\n",
    "    return ret\n",
    "largeGroupPositions(\"abbxxxxzzy\")"
   ]
  },
  {
   "cell_type": "code",
   "execution_count": null,
   "metadata": {
    "collapsed": true
   },
   "outputs": [],
   "source": []
  }
 ],
 "metadata": {
  "kernelspec": {
   "display_name": "Python 3",
   "language": "python",
   "name": "python3"
  },
  "language_info": {
   "codemirror_mode": {
    "name": "ipython",
    "version": 3
   },
   "file_extension": ".py",
   "mimetype": "text/x-python",
   "name": "python",
   "nbconvert_exporter": "python",
   "pygments_lexer": "ipython3",
   "version": "3.6.2"
  }
 },
 "nbformat": 4,
 "nbformat_minor": 2
}
