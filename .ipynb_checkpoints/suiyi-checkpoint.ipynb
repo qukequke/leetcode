{
 "cells": [
  {
   "cell_type": "code",
   "execution_count": 32,
   "metadata": {},
   "outputs": [
    {
     "name": "stdout",
     "output_type": "stream",
     "text": [
      "Counter({2: 2, 1: 1})\n",
      "{3}\n",
      "[2, 3]\n"
     ]
    }
   ],
   "source": [
    "def find_error_num(nums):\n",
    "    from collections import Counter\n",
    "    print(Counter(nums))\n",
    "    counter = Counter(nums)\n",
    "    a = []\n",
    "    for i, j in counter.items():\n",
    "          if j != 1:\n",
    "                a.append(i)\n",
    "    b = set(counter.keys())\n",
    "    loss_value = set([x+1 for x in range(len(nums))])-b\n",
    "    print(loss_value)\n",
    "    a.append(list(loss_value)[0])\n",
    "    print(a)\n",
    "find_error_num([1,2,2])"
   ]
  },
  {
   "cell_type": "code",
   "execution_count": 48,
   "metadata": {},
   "outputs": [
    {
     "name": "stdout",
     "output_type": "stream",
     "text": [
      "[2, 3, 3, 4, 5, 6]\n",
      "[1, 2, 3, 4, 5, 6]\n"
     ]
    },
    {
     "data": {
      "text/plain": [
       "[1, 3]"
      ]
     },
     "execution_count": 48,
     "metadata": {},
     "output_type": "execute_result"
    }
   ],
   "source": [
    "def find_error_num1(nums):\n",
    "    nums.sort()\n",
    "    length = len(nums)\n",
    "    c = []\n",
    "    dict_ = {}\n",
    "    a = [x+1 for x in range(length)]\n",
    "    d = []\n",
    "    print(nums)\n",
    "    print(a)\n",
    "    for i in range(length):\n",
    "        if nums[i] not in dict_:\n",
    "            dict_[nums[i]] = 1\n",
    "        else:\n",
    "            c.append(nums[i])\n",
    "        if nums[i] != a[i]:\n",
    "            c.append(a[i])\n",
    "#         print(dict_)\n",
    "    d.append(c[0])\n",
    "    d.append(c[-1])\n",
    "    return d\n",
    "find_error_num1([3,2,3,4,6,5])\n",
    "            "
   ]
  },
  {
   "cell_type": "code",
   "execution_count": 49,
   "metadata": {},
   "outputs": [
    {
     "data": {
      "text/plain": [
       "'c'"
      ]
     },
     "execution_count": 49,
     "metadata": {},
     "output_type": "execute_result"
    }
   ],
   "source": []
  },
  {
   "cell_type": "code",
   "execution_count": 52,
   "metadata": {},
   "outputs": [
    {
     "name": "stdout",
     "output_type": "stream",
     "text": [
      "c\n",
      "b\n",
      "a\n"
     ]
    }
   ],
   "source": [
    "#680 valid_Palindrome\n",
    "def valid_pa(s):\n",
    "    for i in reversed(range(len(s))):\n",
    "        if \n",
    "valid_pa('abc')"
   ]
  },
  {
   "cell_type": "code",
   "execution_count": 3,
   "metadata": {},
   "outputs": [
    {
     "name": "stdout",
     "output_type": "stream",
     "text": [
      "0\n",
      "b\n",
      "first flag0\n",
      "0\n",
      "2\n",
      "3\n",
      "1\n",
      "4\n",
      "4\n",
      "['a', 'app', 'appl', 'ap', 'apply', 'apple']\n"
     ]
    },
    {
     "data": {
      "text/plain": [
       "'apply'"
      ]
     },
     "execution_count": 3,
     "metadata": {},
     "output_type": "execute_result"
    }
   ],
   "source": [
    "def longestWord(words):\n",
    "    \"\"\"\n",
    "    :type words: List[str]\n",
    "    :rtype: str\n",
    "    \"\"\"\n",
    "    a = []\n",
    "    for word in words:\n",
    "        flag = 0\n",
    "        for i in range(1, len(word)):\n",
    "            if word[:i] not in words:\n",
    "                print(word[:i])\n",
    "                print('first flag'+str(flag))\n",
    "                break\n",
    "            flag += 1\n",
    "        print(flag)\n",
    "        if flag == len(word)-1:\n",
    "            a.append(word)\n",
    "    ret = 0\n",
    "    print(a)\n",
    "    ret = a[0]\n",
    "    for i in a:\n",
    "        if len(i) > len(ret):\n",
    "            ret = i\n",
    "    return ret\n",
    "longestWord([\"a\",\"banana\",\"app\",\"appl\",\"ap\",\"apply\",\"apple\"])"
   ]
  },
  {
   "cell_type": "code",
   "execution_count": 6,
   "metadata": {},
   "outputs": [
    {
     "name": "stdout",
     "output_type": "stream",
     "text": [
      "['a', 'ap', 'app', 'appl', 'apple', 'apply', 'banana']\n",
      "{'', 'a', 'ap', 'app', 'apple', 'apply', 'appl'}\n"
     ]
    },
    {
     "data": {
      "text/plain": [
       "'apple'"
      ]
     },
     "execution_count": 6,
     "metadata": {},
     "output_type": "execute_result"
    }
   ],
   "source": [
    "#leetcode 720\n",
    "def longestWord1(words):\n",
    "    \"\"\"\n",
    "    :type words: List[str]\n",
    "    :rtype: str\n",
    "    \"\"\"\n",
    "    wset = set([''])\n",
    "    ans = ''\n",
    "    print(sorted(words))\n",
    "    for word in sorted(words):\n",
    "        if word[:-1] in wset:\n",
    "            wset.add(word)\n",
    "            if len(word) > len(ans):\n",
    "                ans = word\n",
    "    print(wset)\n",
    "    return ans\n",
    "longestWord1([\"a\",\"banana\",\"app\",\"appl\",\"ap\",\"apply\",\"apple\"])"
   ]
  },
  {
   "cell_type": "code",
   "execution_count": null,
   "metadata": {
    "collapsed": true
   },
   "outputs": [],
   "source": []
  }
 ],
 "metadata": {
  "kernelspec": {
   "display_name": "Python 3",
   "language": "python",
   "name": "python3"
  },
  "language_info": {
   "codemirror_mode": {
    "name": "ipython",
    "version": 3
   },
   "file_extension": ".py",
   "mimetype": "text/x-python",
   "name": "python",
   "nbconvert_exporter": "python",
   "pygments_lexer": "ipython3",
   "version": "3.6.2"
  }
 },
 "nbformat": 4,
 "nbformat_minor": 2
}
