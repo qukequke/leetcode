{
 "cells": [
  {
   "cell_type": "code",
   "execution_count": 2,
   "metadata": {},
   "outputs": [
    {
     "data": {
      "text/plain": [
       "15"
      ]
     },
     "execution_count": 2,
     "metadata": {},
     "output_type": "execute_result"
    }
   ],
   "source": [
    "#递归方法  打家劫舍（只能取相邻的，找最大值）\n",
    "def rec_dp(arr, i):\n",
    "    if i == 0:\n",
    "        return arr[i]\n",
    "    elif i == 1:\n",
    "        return max(arr[0], arr[1])\n",
    "    else:\n",
    "        A = rec_dp(arr, i-2) + arr[i] #选中当前这个值，结果是当前值加上i-2时的最优值\n",
    "        B = rec_dp(arr, i-1)\n",
    "        return max(A, B)\n",
    "rec_dp([1,2,4,1,7,8,3], 6)"
   ]
  },
  {
   "cell_type": "code",
   "execution_count": 4,
   "metadata": {},
   "outputs": [
    {
     "name": "stdout",
     "output_type": "stream",
     "text": [
      "[  1.   2.   5.   5.  12.  13.  15.]\n"
     ]
    },
    {
     "data": {
      "text/plain": [
       "15.0"
      ]
     },
     "execution_count": 4,
     "metadata": {},
     "output_type": "execute_result"
    }
   ],
   "source": [
    "#由于递归方法复杂度高2**n （由于不存中间数，每个都重新计算） 一般改成不是递归的\n",
    "import numpy as np\n",
    "def dp(arr):\n",
    "    opt = np.zeros(len(arr))\n",
    "    opt[0] = arr[0]\n",
    "    opt[1] = max(arr[0], arr[1])\n",
    "    for i in range(2, len(arr)):\n",
    "        A = opt[i-2] + arr[i]\n",
    "        B = opt[i-1]\n",
    "        opt[i] = max(A, B)\n",
    "    print(opt)\n",
    "    return opt[i]\n",
    "dp([1,2,4,1,7,8,3])"
   ]
  },
  {
   "cell_type": "code",
   "execution_count": 9,
   "metadata": {},
   "outputs": [
    {
     "data": {
      "text/plain": [
       "8"
      ]
     },
     "execution_count": 9,
     "metadata": {},
     "output_type": "execute_result"
    }
   ],
   "source": [
    "##斐波那契数列 [1,1,2,3,5,8]\n",
    "def fib(i):\n",
    "    if i == 0 or i == 1:\n",
    "        return 1\n",
    "    else:\n",
    "        return fib(i-1) + fib(i-2)\n",
    "fib(5)"
   ]
  },
  {
   "cell_type": "code",
   "execution_count": 19,
   "metadata": {},
   "outputs": [
    {
     "name": "stdout",
     "output_type": "stream",
     "text": [
      "[1, 1, 2, 3, 5, 8]\n"
     ]
    },
    {
     "data": {
      "text/plain": [
       "8"
      ]
     },
     "execution_count": 19,
     "metadata": {},
     "output_type": "execute_result"
    }
   ],
   "source": [
    "# import numpy as np\n",
    "def fib1(i):\n",
    "    i = i+1\n",
    "    opt = np.zeros(i)\n",
    "    opt = [0 for _ in range(i)]\n",
    "    opt[0], opt[1] = 1,1\n",
    "    for k in range(2, i):\n",
    "        opt[k] = opt[k-1] + opt[k-2]\n",
    "    print(opt)\n",
    "    return opt[k]\n",
    "fib1(5)"
   ]
  },
  {
   "cell_type": "code",
   "execution_count": 4,
   "metadata": {},
   "outputs": [
    {
     "name": "stdout",
     "output_type": "stream",
     "text": [
      "True\n",
      "True\n",
      "True\n",
      "True\n",
      "False\n",
      "True\n",
      "True\n",
      "True\n",
      "True\n",
      "False\n"
     ]
    }
   ],
   "source": [
    "# k_sum 是否存在数加起来可以得到target\n",
    "def k_sum(nums, i, target):\n",
    "    if target == 0:\n",
    "        return True\n",
    "    elif i == 0:\n",
    "        return nums[i] == target\n",
    "    elif nums[i] > target:\n",
    "        return k_sum(nums, i-1, target)\n",
    "    else:\n",
    "        A = k_sum(nums, i-1, target)\n",
    "        B = k_sum(nums, i-1, target - nums[i])\n",
    "        return A or B\n",
    "    \n",
    "    \n",
    "def k_sum2(nums, target):\n",
    "    import numpy as np\n",
    "    subset = np.zeros((len(nums), target+1), dtype=bool)\n",
    "    subset[:, 0] = True\n",
    "    \n",
    "    subset[0, :] = False\n",
    "    subset[0, nums[0]] = True\n",
    "    subset[0, 0] = True\n",
    "    for i in range(1, len(nums)):\n",
    "        for s in range(1, target+1):\n",
    "            if nums[i] > s:\n",
    "                subset[i, s] = subset[i-1, s]\n",
    "            else:\n",
    "                A = subset[i-1, s]\n",
    "                B = subset[i-1, s-nums[i]]\n",
    "                subset[i, s] = A or B\n",
    "#     print(subset)\n",
    "    return subset[i, s]\n",
    "print(k_sum([3, 34, 4, 12, 5, 2],  5, 9))\n",
    "print(k_sum([3, 34, 4, 12, 5, 2],  5, 10))\n",
    "print(k_sum([3, 34, 4, 12, 5, 2],  5, 11))\n",
    "print(k_sum([3, 34, 4, 12, 5, 2],  5, 12))\n",
    "print(k_sum([3, 34, 4, 12, 5, 2],  5, 13))\n",
    "\n",
    "print(k_sum2([3, 34, 4, 12, 5, 2], 9))\n",
    "print(k_sum2([3, 34, 4, 12, 5, 2], 10))\n",
    "print(k_sum2([3, 34, 4, 12, 5, 2], 11))\n",
    "print(k_sum2([3, 34, 4, 12, 5, 2], 12))\n",
    "print(k_sum2([3, 34, 4, 12, 5, 2], 13))"
   ]
  },
  {
   "cell_type": "markdown",
   "metadata": {
    "collapsed": true
   },
   "source": [
    "## dfs， bfs\n",
    "\n",
    "## \n"
   ]
  },
  {
   "cell_type": "markdown",
   "metadata": {},
   "source": [
    "![title](img/2.jpg)"
   ]
  },
  {
   "cell_type": "code",
   "execution_count": 3,
   "metadata": {
    "collapsed": true
   },
   "outputs": [],
   "source": [
    "graph = {'A': ['B', 'C'],   #图用字典表示\n",
    "         'B': ['A', 'C', 'D'], \n",
    "         'C': ['A', 'B', 'D', 'E'], \n",
    "         'D': ['B', 'C', 'E', 'F'], \n",
    "         'E':['C', 'D'], \n",
    "         'F':['D']}"
   ]
  },
  {
   "cell_type": "code",
   "execution_count": 12,
   "metadata": {},
   "outputs": [
    {
     "name": "stdout",
     "output_type": "stream",
     "text": [
      "ABCDEF\n",
      "ECDABF"
     ]
    }
   ],
   "source": [
    "def bfs(graph, s):  #建立一个队列 只有队列有节点，pop出来节点 然后看他的所有连接节点，如果是没见过的节点\n",
    "    queue = []      #就append到stack里面 \n",
    "    queue.append(s)\n",
    "    seen_node = [s]\n",
    "    while queue:\n",
    "        node = queue.pop(0)\n",
    "        for node_single in graph[node]:\n",
    "            if node_single not in seen_node:\n",
    "                queue.append(node_single)\n",
    "                seen_node.append(node_single)\n",
    "        print(node, end='')\n",
    "bfs(graph, 'A')\n",
    "print('')\n",
    "bfs(graph, 'E')"
   ]
  },
  {
   "cell_type": "code",
   "execution_count": 18,
   "metadata": {},
   "outputs": [
    {
     "name": "stdout",
     "output_type": "stream",
     "text": [
      "ACEDFB\n",
      "EDFBAC"
     ]
    }
   ],
   "source": [
    "def dfs(graph, s):  #直接把队列改成栈就完事了，别的啥都不用改\n",
    "    stack = [s]  \n",
    "    seen_node = [s]\n",
    "    while stack:\n",
    "        node = stack.pop()\n",
    "        for node_single in graph[node]:\n",
    "            if node_single not in seen_node:\n",
    "                stack.append(node_single)\n",
    "                seen_node.append(node_single)\n",
    "        print(node, end='')   \n",
    "dfs(graph, 'A')\n",
    "print('')\n",
    "dfs(graph, 'E')"
   ]
  },
  {
   "cell_type": "code",
   "execution_count": 34,
   "metadata": {},
   "outputs": [
    {
     "name": "stdout",
     "output_type": "stream",
     "text": [
      "ECDABF\n",
      "{'E': None, 'C': 'E', 'D': 'E', 'A': 'C', 'B': 'C', 'F': 'D'}\n",
      "B\n",
      "C\n",
      "E\n"
     ]
    }
   ],
   "source": [
    "def dfs(graph, s):   #拓展， 寻找最短路径\n",
    "    stack = [s]  \n",
    "    seen_node = [s]\n",
    "    parent = {s: None}\n",
    "    while stack:\n",
    "        node = stack.pop(0)    # ######### 加0 是E -> C -> B 不加0 是 E -> D -> B\n",
    "        for node_single in graph[node]:\n",
    "            if node_single not in seen_node:\n",
    "                stack.append(node_single)\n",
    "                seen_node.append(node_single)\n",
    "                parent[node_single] = node\n",
    "        print(node, end='')   \n",
    "    return parent\n",
    "# dfs(graph, 'A')\n",
    "# print('')\n",
    "parent = dfs(graph, 'E')  #得到储存所有上一步节点的字典  算E -> B的最短路径\n",
    "print('') \n",
    "print(parent)\n",
    "# for i, j in parent.items():\n",
    "#     print(i, j)\n",
    "v = 'B'\n",
    "while v!=None:\n",
    "    print(v)\n",
    "    v = parent[v]\n",
    "    "
   ]
  },
  {
   "cell_type": "markdown",
   "metadata": {},
   "source": [
    "## 带距离的最短路径\n",
    "\n",
    "![title](img/1.png)"
   ]
  },
  {
   "cell_type": "code",
   "execution_count": 37,
   "metadata": {
    "collapsed": true
   },
   "outputs": [],
   "source": [
    "import heapq\n",
    "graph = {'A': {'B':5, 'C':1},   #图用字典表示\n",
    "         'B': {}'A':5, 'C', 'D'}, \n",
    "         'C': ['A', 'B', 'D', 'E'], \n",
    "         'D': ['B', 'C', 'E', 'F'], \n",
    "         'E':['C', 'D'], \n",
    "         'F':['D']}\n"
   ]
  },
  {
   "cell_type": "code",
   "execution_count": 39,
   "metadata": {},
   "outputs": [
    {
     "data": {
      "text/plain": [
       "[(3, 'A')]"
      ]
     },
     "execution_count": 39,
     "metadata": {},
     "output_type": "execute_result"
    }
   ],
   "source": [
    "a = []\n",
    "heapq.heappush(a, (3, 'A'))\n",
    "a"
   ]
  },
  {
   "cell_type": "code",
   "execution_count": 51,
   "metadata": {},
   "outputs": [
    {
     "name": "stdout",
     "output_type": "stream",
     "text": [
      "{'A': None, 'B': 'C', 'C': 'A', 'D': 'B', 'E': 'D', 'F': 'D'}\n",
      "{'A': 0, 'B': 3, 'C': 1, 'D': 4, 'E': 7, 'F': 10}\n"
     ]
    }
   ],
   "source": [
    "import heapq\n",
    "import math\n",
    "graph = {'A': {'B':5, 'C':1},   #图用字典表示\n",
    "         'B': {'A':5, 'C':2, 'D':1}, \n",
    "         'C': {'A':1, 'B':2, 'D':4, 'E':8}, \n",
    "         'D': {'B':1, 'C':4, 'E':3, 'F':6}, \n",
    "         'E':{'C':8, 'D':3}, \n",
    "         'F':{'D':6}}\n",
    "\n",
    "def init_distance(graph, s):\n",
    "\tdistance = {s:0}\n",
    "\tfor i in graph.keys():\n",
    "\t\tif i is not s:\n",
    "\t\t\tdistance[i] = math.inf\n",
    "\treturn distance\n",
    "\n",
    "def short_path(graph, s):\n",
    "\tpqueue = []\n",
    "\theapq.heappush(pqueue, (0, s))\n",
    "\tparent = {s:None}\n",
    "\tdistance = init_distance(graph, s)\n",
    "\tseen = []\n",
    "\twhile pqueue:\n",
    "\t\tdist, vertex = heapq.heappop(pqueue)\n",
    "\t\tseen.append(vertex)  #只能说明父节点处理过了，每个子节点都要再处理 \n",
    "\t\tfor w in graph[vertex].keys():\n",
    "\t\t\tif w not in seen:\n",
    "\t\t\t\tif dist + graph[vertex][w] < distance[w]:\n",
    "\t\t\t\t\tdistance[w] = dist + graph[vertex][w]\n",
    "\t\t\t\t\theapq.heappush(pqueue, (dist+graph[vertex][w], w))\n",
    "\t\t\t\t\tparent[w] = vertex\n",
    "\treturn parent, distance\n",
    "parent, distance = short_path(graph, 'A')\n",
    "print(parent)\n",
    "print(distance)"
   ]
  },
  {
   "cell_type": "code",
   "execution_count": 50,
   "metadata": {},
   "outputs": [
    {
     "name": "stdout",
     "output_type": "stream",
     "text": [
      "F\n",
      "D\n",
      "B\n",
      "C\n",
      "A\n"
     ]
    }
   ],
   "source": [
    "## 求出内个最短的路径  （这是反向的）\n",
    "v = 'F' \n",
    "while v is not None:\n",
    "    print(v)\n",
    "    v = parent[v]"
   ]
  },
  {
   "cell_type": "code",
   "execution_count": 11,
   "metadata": {},
   "outputs": [
    {
     "name": "stdout",
     "output_type": "stream",
     "text": [
      "[1, 3, 1, 5, 6]\n"
     ]
    },
    {
     "data": {
      "text/plain": [
       "6"
      ]
     },
     "execution_count": 11,
     "metadata": {},
     "output_type": "execute_result"
    }
   ],
   "source": [
    "def maxSubArray(nums):  \n",
    "    \"\"\" \n",
    "    :type nums: List[int] \n",
    "    :rtype: int \n",
    "    \"\"\"  \n",
    "    length=len(nums)  \n",
    "    for i in range(1,length):  \n",
    "        #当前值的大小与前面的值之和比较，若当前值更大，则取当前值，舍弃前面的值之和  \n",
    "        subMaxSum=max(nums[i]+nums[i-1],nums[i])  \n",
    "        nums[i]=subMaxSum#将当前和最大的赋给nums[i]，新的nums存储的为和值  \n",
    "    print(nums)\n",
    "    return max(nums) \n",
    "maxSubArray([1,2,-2,4,1])"
   ]
  },
  {
   "cell_type": "code",
   "execution_count": 8,
   "metadata": {},
   "outputs": [
    {
     "name": "stdout",
     "output_type": "stream",
     "text": [
      "1\n",
      "3\n",
      "3\n",
      "5\n",
      "5\n",
      "5\n"
     ]
    }
   ],
   "source": [
    "def max_sub(nums):\n",
    "    cur_sum = 0\n",
    "    max_sum = nums[0]\n",
    "    for i in range(len(nums)):\n",
    "        cur_sum += nums[i]\n",
    "        max_sum = max(cur_sum, max_sum)\n",
    "        if cur_sum < 0: #如果当前和<0 说明前面全不能用\n",
    "            cur_sum = 0\n",
    "        print(max_sum)\n",
    "max_sub([1,2,-2,4,-2, 1])"
   ]
  },
  {
   "cell_type": "code",
   "execution_count": 21,
   "metadata": {},
   "outputs": [
    {
     "name": "stdout",
     "output_type": "stream",
     "text": [
      "[[ 1.  0.  1.  0.  0.]\n",
      " [ 1.  0.  1.  2.  3.]\n",
      " [ 1.  2.  3.  4.  5.]\n",
      " [ 1.  0.  0.  1.  0.]]\n",
      "[[ 1.  0.  1.  0.  0.]\n",
      " [ 2.  0.  2.  1.  1.]\n",
      " [ 3.  1.  3.  2.  2.]\n",
      " [ 4.  0.  0.  3.  0.]]\n",
      "[[1 0 0 0 0]\n",
      " [0 0 1 1 1]\n",
      " [0 1 1 2 2]\n",
      " [0 0 0 1 0]]\n"
     ]
    },
    {
     "data": {
      "text/plain": [
       "2"
      ]
     },
     "execution_count": 21,
     "metadata": {},
     "output_type": "execute_result"
    }
   ],
   "source": [
    "def max_square(nums):\n",
    "    import numpy as np\n",
    "    raw = len(nums)\n",
    "    col = len(nums[0])\n",
    "    dp = np.zeros_like(nums, dtype=int)\n",
    "    up = np.zeros((raw, col))\n",
    "    left = np.zeros((raw, col))\n",
    "    for i in range(len(nums)):\n",
    "        for j in range(len(nums[0])):\n",
    "            l_value = 0\n",
    "            u_value = 0\n",
    "            k = j\n",
    "            while k>=0 and nums[i][k] == '1':\n",
    "                k -= 1\n",
    "                l_value += 1\n",
    "#             print(l_value)\n",
    "#             print('j', j)\n",
    "            left[i][j] = l_value\n",
    "            q = i\n",
    "            while q>=0 and nums[q][j] == '1':\n",
    "                q -= 1\n",
    "                u_value += 1\n",
    "            up[i][j] = u_value\n",
    "    dp[0][0] = nums[0][0]\n",
    "    for i in range(1, raw):\n",
    "        for j in range(1, col):\n",
    "#             bian = \n",
    "            dp[i, j] = min(dp[i-1, j-1]+1, left[i, j], up[i, j])\n",
    "#     print(left)\n",
    "#     print(up)\n",
    "#     print(dp)\n",
    "    return dp.max()\n",
    "\n",
    "max_square([[\"1\",\"0\",\"1\",\"0\",\"0\"],[\"1\",\"0\",\"1\",\"1\",\"1\"],[\"1\",\"1\",\"1\",\"1\",\"1\"],[\"1\",\"0\",\"0\",\"1\",\"0\"]])\n",
    "\n",
    "#     for i in range()"
   ]
  },
  {
   "cell_type": "code",
   "execution_count": 19,
   "metadata": {
    "scrolled": true
   },
   "outputs": [
    {
     "name": "stdout",
     "output_type": "stream",
     "text": [
      "Help on function zeros_like in module numpy.core.numeric:\n",
      "\n",
      "zeros_like(a, dtype=None, order='K', subok=True)\n",
      "    Return an array of zeros with the same shape and type as a given array.\n",
      "    \n",
      "    Parameters\n",
      "    ----------\n",
      "    a : array_like\n",
      "        The shape and data-type of `a` define these same attributes of\n",
      "        the returned array.\n",
      "    dtype : data-type, optional\n",
      "        Overrides the data type of the result.\n",
      "    \n",
      "        .. versionadded:: 1.6.0\n",
      "    order : {'C', 'F', 'A', or 'K'}, optional\n",
      "        Overrides the memory layout of the result. 'C' means C-order,\n",
      "        'F' means F-order, 'A' means 'F' if `a` is Fortran contiguous,\n",
      "        'C' otherwise. 'K' means match the layout of `a` as closely\n",
      "        as possible.\n",
      "    \n",
      "        .. versionadded:: 1.6.0\n",
      "    subok : bool, optional.\n",
      "        If True, then the newly created array will use the sub-class\n",
      "        type of 'a', otherwise it will be a base-class array. Defaults\n",
      "        to True.\n",
      "    \n",
      "    Returns\n",
      "    -------\n",
      "    out : ndarray\n",
      "        Array of zeros with the same shape and type as `a`.\n",
      "    \n",
      "    See Also\n",
      "    --------\n",
      "    ones_like : Return an array of ones with shape and type of input.\n",
      "    empty_like : Return an empty array with shape and type of input.\n",
      "    zeros : Return a new array setting values to zero.\n",
      "    ones : Return a new array setting values to one.\n",
      "    empty : Return a new uninitialized array.\n",
      "    \n",
      "    Examples\n",
      "    --------\n",
      "    >>> x = np.arange(6)\n",
      "    >>> x = x.reshape((2, 3))\n",
      "    >>> x\n",
      "    array([[0, 1, 2],\n",
      "           [3, 4, 5]])\n",
      "    >>> np.zeros_like(x)\n",
      "    array([[0, 0, 0],\n",
      "           [0, 0, 0]])\n",
      "    \n",
      "    >>> y = np.arange(3, dtype=np.float)\n",
      "    >>> y\n",
      "    array([ 0.,  1.,  2.])\n",
      "    >>> np.zeros_like(y)\n",
      "    array([ 0.,  0.,  0.])\n",
      "\n"
     ]
    }
   ],
   "source": [
    "import numpy as np\n",
    "help(np.zeros_like)"
   ]
  },
  {
   "cell_type": "code",
   "execution_count": null,
   "metadata": {
    "collapsed": true
   },
   "outputs": [],
   "source": []
  }
 ],
 "metadata": {
  "kernelspec": {
   "display_name": "Python 3",
   "language": "python",
   "name": "python3"
  },
  "language_info": {
   "codemirror_mode": {
    "name": "ipython",
    "version": 3
   },
   "file_extension": ".py",
   "mimetype": "text/x-python",
   "name": "python",
   "nbconvert_exporter": "python",
   "pygments_lexer": "ipython3",
   "version": "3.6.2"
  }
 },
 "nbformat": 4,
 "nbformat_minor": 2
}
