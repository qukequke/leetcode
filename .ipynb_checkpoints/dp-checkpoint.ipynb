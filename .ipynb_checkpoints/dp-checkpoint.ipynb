{
 "cells": [
  {
   "cell_type": "code",
   "execution_count": 2,
   "metadata": {},
   "outputs": [
    {
     "data": {
      "text/plain": [
       "15"
      ]
     },
     "execution_count": 2,
     "metadata": {},
     "output_type": "execute_result"
    }
   ],
   "source": [
    "#递归方法  打家劫舍（只能取相邻的，找最大值）\n",
    "def rec_dp(arr, i):\n",
    "    if i == 0:\n",
    "        return arr[i]\n",
    "    elif i == 1:\n",
    "        return max(arr[0], arr[1])\n",
    "    else:\n",
    "        A = rec_dp(arr, i-2) + arr[i] #选中当前这个值，结果是当前值加上i-2时的最优值\n",
    "        B = rec_dp(arr, i-1)\n",
    "        return max(A, B)\n",
    "rec_dp([1,2,4,1,7,8,3], 6)"
   ]
  },
  {
   "cell_type": "code",
   "execution_count": 4,
   "metadata": {},
   "outputs": [
    {
     "name": "stdout",
     "output_type": "stream",
     "text": [
      "[  1.   2.   5.   5.  12.  13.  15.]\n"
     ]
    },
    {
     "data": {
      "text/plain": [
       "15.0"
      ]
     },
     "execution_count": 4,
     "metadata": {},
     "output_type": "execute_result"
    }
   ],
   "source": [
    "#由于递归方法复杂度高2**n （由于不存中间数，每个都重新计算） 一般改成不是递归的\n",
    "import numpy as np\n",
    "def dp(arr):\n",
    "    opt = np.zeros(len(arr))\n",
    "    opt[0] = arr[0]\n",
    "    opt[1] = max(arr[0], arr[1])\n",
    "    for i in range(2, len(arr)):\n",
    "        A = opt[i-2] + arr[i]\n",
    "        B = opt[i-1]\n",
    "        opt[i] = max(A, B)\n",
    "    print(opt)\n",
    "    return opt[i]\n",
    "dp([1,2,4,1,7,8,3])"
   ]
  },
  {
   "cell_type": "code",
   "execution_count": 9,
   "metadata": {},
   "outputs": [
    {
     "data": {
      "text/plain": [
       "8"
      ]
     },
     "execution_count": 9,
     "metadata": {},
     "output_type": "execute_result"
    }
   ],
   "source": [
    "##斐波那契数列 [1,1,2,3,5,8]\n",
    "def fib(i):\n",
    "    if i == 0 or i == 1:\n",
    "        return 1\n",
    "    else:\n",
    "        return fib(i-1) + fib(i-2)\n",
    "fib(5)"
   ]
  },
  {
   "cell_type": "code",
   "execution_count": 19,
   "metadata": {},
   "outputs": [
    {
     "name": "stdout",
     "output_type": "stream",
     "text": [
      "[1, 1, 2, 3, 5, 8]\n"
     ]
    },
    {
     "data": {
      "text/plain": [
       "8"
      ]
     },
     "execution_count": 19,
     "metadata": {},
     "output_type": "execute_result"
    }
   ],
   "source": [
    "# import numpy as np\n",
    "def fib1(i):\n",
    "    i = i+1\n",
    "    opt = np.zeros(i)\n",
    "    opt = [0 for _ in range(i)]\n",
    "    opt[0], opt[1] = 1,1\n",
    "    for k in range(2, i):\n",
    "        opt[k] = opt[k-1] + opt[k-2]\n",
    "    print(opt)\n",
    "    return opt[k]\n",
    "fib1(5)"
   ]
  },
  {
   "cell_type": "code",
   "execution_count": 47,
   "metadata": {},
   "outputs": [
    {
     "name": "stdout",
     "output_type": "stream",
     "text": [
      "True\n",
      "True\n",
      "True\n",
      "True\n",
      "False\n"
     ]
    }
   ],
   "source": [
    "# k_sum 是否存在数加起来可以得到target\n",
    "def k_sum(nums, i, target):\n",
    "    if target == 0:\n",
    "        return True\n",
    "    elif i == 0:\n",
    "        return nums[i] == target\n",
    "    elif nums[i] > target:\n",
    "        return k_sum(nums, i-1, target)\n",
    "    else:\n",
    "        A = k_sum(nums, i-1, target)\n",
    "        B = k_sum(nums, i-1, target - nums[i])\n",
    "        return A or B\n",
    "    \n",
    "    \n",
    "def k_sum2(nums, target):\n",
    "    import numpy as np\n",
    "    subset = np.zeros((len(nums), target+1), dtype=bool)\n",
    "    subset[:, 0] = True\n",
    "    \n",
    "    subset[0, :] = False\n",
    "    subset[0, nums[0]] = True\n",
    "    subset[0, 0] = True\n",
    "    for i in range(1, len(nums)):\n",
    "        for s in range(1, target+1):\n",
    "            if nums[i] > s:\n",
    "                subset[i, s] = subset[i-1, s]\n",
    "            else:\n",
    "                A = subset[i-1, s]\n",
    "                B = subset[i-1, s-nums[i]]\n",
    "                subset[i, s] = A or B\n",
    "#     print(subset)\n",
    "    return subset[i, s]\n",
    "# print(k_sum([3, 34, 4, 12, 5, 2],  5, 9))\n",
    "# print(k_sum([3, 34, 4, 12, 5, 2],  5, 10))\n",
    "# print(k_sum([3, 34, 4, 12, 5, 2],  5, 11))\n",
    "# print(k_sum([3, 34, 4, 12, 5, 2],  5, 12))\n",
    "# print(k_sum([3, 34, 4, 12, 5, 2],  5, 13))\n",
    "\n",
    "print(k_sum2([3, 34, 4, 12, 5, 2], 9))\n",
    "print(k_sum2([3, 34, 4, 12, 5, 2], 10))\n",
    "print(k_sum2([3, 34, 4, 12, 5, 2], 11))\n",
    "print(k_sum2([3, 34, 4, 12, 5, 2], 12))\n",
    "print(k_sum2([3, 34, 4, 12, 5, 2], 13))"
   ]
  },
  {
   "cell_type": "code",
   "execution_count": 30,
   "metadata": {},
   "outputs": [
    {
     "ename": "TypeError",
     "evalue": "data type not understood",
     "output_type": "error",
     "traceback": [
      "\u001b[1;31m---------------------------------------------------------------------------\u001b[0m",
      "\u001b[1;31mTypeError\u001b[0m                                 Traceback (most recent call last)",
      "\u001b[1;32m<ipython-input-30-8e38cfb5f06c>\u001b[0m in \u001b[0;36m<module>\u001b[1;34m()\u001b[0m\n\u001b[1;32m----> 1\u001b[1;33m \u001b[0mnp\u001b[0m\u001b[1;33m.\u001b[0m\u001b[0mzeros\u001b[0m\u001b[1;33m(\u001b[0m\u001b[1;36m3\u001b[0m\u001b[1;33m,\u001b[0m\u001b[1;36m3\u001b[0m\u001b[1;33m)\u001b[0m\u001b[1;33m\u001b[0m\u001b[0m\n\u001b[0m",
      "\u001b[1;31mTypeError\u001b[0m: data type not understood"
     ]
    }
   ],
   "source": [
    "np.zeros(3,3)"
   ]
  },
  {
   "cell_type": "code",
   "execution_count": 29,
   "metadata": {},
   "outputs": [
    {
     "data": {
      "text/plain": [
       "2"
      ]
     },
     "execution_count": 29,
     "metadata": {},
     "output_type": "execute_result"
    }
   ],
   "source": [
    "[1,2,3].index(3)"
   ]
  },
  {
   "cell_type": "code",
   "execution_count": null,
   "metadata": {
    "collapsed": true
   },
   "outputs": [],
   "source": []
  }
 ],
 "metadata": {
  "kernelspec": {
   "display_name": "Python 3",
   "language": "python",
   "name": "python3"
  },
  "language_info": {
   "codemirror_mode": {
    "name": "ipython",
    "version": 3
   },
   "file_extension": ".py",
   "mimetype": "text/x-python",
   "name": "python",
   "nbconvert_exporter": "python",
   "pygments_lexer": "ipython3",
   "version": "3.6.2"
  }
 },
 "nbformat": 4,
 "nbformat_minor": 2
}
