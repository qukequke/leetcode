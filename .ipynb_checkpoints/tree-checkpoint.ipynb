{
 "cells": [
  {
   "cell_type": "code",
   "execution_count": null,
   "metadata": {
    "collapsed": true
   },
   "outputs": [],
   "source": [
    "#101. Symmetric Tree Leetcode Python\n",
    "# Definition for a  binary tree node  \n",
    "# class TreeNode:  \n",
    "#     def __init__(self, x):  \n",
    "#         self.val = x  \n",
    "#         self.left = None  \n",
    "#         self.right = None  \n",
    "  \n",
    "class Solution:  \n",
    "    # @param root, a tree node  \n",
    "    # @return a boolean  \n",
    "    def sym(self,left,right):  \n",
    "        if left==None and right==None:  \n",
    "            return True  \n",
    "        if left and right and left.val==right.val:  \n",
    "            return self.sym(left.left,right.right) and self.sym(left.right,right.left)  \n",
    "        else:  \n",
    "            return False  \n",
    "              \n",
    "    def isSymmetric(self, root):  \n",
    "        if root==None:  \n",
    "            return True  \n",
    "        return self.sym(root.left,root.right)     "
   ]
  },
  {
   "cell_type": "code",
   "execution_count": null,
   "metadata": {
    "collapsed": true
   },
   "outputs": [],
   "source": [
    "#108. 将有序数组转换为二叉搜索树\n",
    "# Definition for a binary tree node.\n",
    "# class TreeNode:\n",
    "#     def __init__(self, x):\n",
    "#         self.val = x\n",
    "#         self.left = None\n",
    "#         self.right = None\n",
    "\n",
    "class Solution:\n",
    "    def sortedArrayToBST(self, nums):\n",
    "        \"\"\"\n",
    "        :type nums: List[int]\n",
    "        :rtype: TreeNode\n",
    "        \"\"\"\n",
    "        if nums:\n",
    "            return self.tree(nums, 0, len(nums)-1)\n",
    "        else:\n",
    "            return None\n",
    "        \n",
    "    def tree(self, nums, start, end):\n",
    "        if start > end:\n",
    "            return None\n",
    "        mid = int(start + (end-start)/2)\n",
    "        Node = TreeNode(nums[mid])\n",
    "        Node.left = self.tree(nums, start, mid-1)\n",
    "        Node.right = self.tree(nums, mid+1, end)\n",
    "        return Node"
   ]
  },
  {
   "cell_type": "code",
   "execution_count": null,
   "metadata": {
    "collapsed": true
   },
   "outputs": [],
   "source": [
    "#112. 路径总和\n",
    "# Definition for a binary tree node.\n",
    "# class TreeNode:\n",
    "#     def __init__(self, x):\n",
    "#         self.val = x\n",
    "#         self.left = None\n",
    "#         self.right = None\n",
    "\n",
    "class Solution:\n",
    "    def hasPathSum(self, root, sum):\n",
    "        \"\"\"\n",
    "        :type root: TreeNode\n",
    "        :type sum: int\n",
    "        :rtype: bool\n",
    "        \"\"\"\n",
    "        if root == None:\n",
    "            return False\n",
    "        if root.left == None and root.right == None:\n",
    "            return root.val == sum\n",
    "        return self.hasPathSum(root.left, sum-root.val) or self.hasPathSum(root.right, sum-root.val)"
   ]
  },
  {
   "cell_type": "code",
   "execution_count": 13,
   "metadata": {},
   "outputs": [
    {
     "data": {
      "text/plain": [
       "1"
      ]
     },
     "execution_count": 13,
     "metadata": {},
     "output_type": "execute_result"
    }
   ],
   "source": [
    "#441. 排列硬币\n",
    "def sort_coins(num):\n",
    "    x = 0\n",
    "    for i in range(num+2):\n",
    "        x += i\n",
    "        if x > num:\n",
    "            return i-1\n",
    "sort_coins(1)"
   ]
  },
  {
   "cell_type": "code",
   "execution_count": 19,
   "metadata": {},
   "outputs": [
    {
     "data": {
      "text/plain": [
       "['a', 'b', '1', '2']"
      ]
     },
     "execution_count": 19,
     "metadata": {},
     "output_type": "execute_result"
    }
   ],
   "source": [
    "def compress(chars):\n",
    "    \"\"\"\n",
    "    :type chars: List[str]\n",
    "    :rtype: int\n",
    "    \"\"\"\n",
    "    from collections import Counter\n",
    "    dict_ = Counter(chars)\n",
    "    list_ = []\n",
    "    for i in chars:\n",
    "        if i not in list_:\n",
    "            list_.append(i)\n",
    "            if dict_[i] != 1:\n",
    "                list_.extend(list(str(dict_[i])))\n",
    "    return list_\n",
    "compress([\"a\",\"b\",\"b\",\"b\",\"b\",\"b\",\"b\",\"b\",\"b\",\"b\",\"b\",\"b\",\"b\"])       "
   ]
  },
  {
   "cell_type": "code",
   "execution_count": 38,
   "metadata": {},
   "outputs": [
    {
     "name": "stdout",
     "output_type": "stream",
     "text": [
      "1\n"
     ]
    },
    {
     "data": {
      "text/plain": [
       "1"
      ]
     },
     "execution_count": 38,
     "metadata": {},
     "output_type": "execute_result"
    }
   ],
   "source": [
    "#258 各位相加\n",
    "def addDigits(num):\n",
    "    \"\"\"\n",
    "    :type num: int\n",
    "    :rtype: int\n",
    "    \"\"\"\n",
    "    while num>9:\n",
    "        c = num\n",
    "        num = 0\n",
    "        for i in list(str(c)):\n",
    "#             print(i)\n",
    "            num += int(i)\n",
    "        print(num)\n",
    "    return num\n",
    "addDigits(10)"
   ]
  },
  {
   "cell_type": "code",
   "execution_count": 41,
   "metadata": {},
   "outputs": [
    {
     "data": {
      "text/plain": [
       "3"
      ]
     },
     "execution_count": 41,
     "metadata": {},
     "output_type": "execute_result"
    }
   ],
   "source": [
    "#400. 第N个数字\n",
    "def findNthDigit(n):\n",
    "    \"\"\"\n",
    "    :type n: int\n",
    "    :rtype: int\n",
    "    \"\"\"\n",
    "    a = []\n",
    "    for i in range(300):\n",
    "        a.extend(list(str(i)))\n",
    "    return int(a[n])\n",
    "findNthDigit(3)"
   ]
  },
  {
   "cell_type": "code",
   "execution_count": null,
   "metadata": {
    "collapsed": true
   },
   "outputs": [],
   "source": [
    "#141. 环形链表\n",
    "# Definition for singly-linked list.\n",
    "# class ListNode(object):\n",
    "#     def __init__(self, x):\n",
    "#         self.val = x\n",
    "#         self.next = None\n",
    "\n",
    "class Solution(object):\n",
    "    def hasCycle(self, head):\n",
    "        \"\"\"\n",
    "        :type head: ListNode\n",
    "        :rtype: bool\n",
    "        \"\"\"\n",
    "        a = []\n",
    "        if head == None:\n",
    "            return False\n",
    "        while head.next:\n",
    "            if head.next in a:\n",
    "                return True\n",
    "            a.append(head)\n",
    "            head = head.next\n",
    "            print(head)\n",
    "        return False\n",
    "#TL"
   ]
  },
  {
   "cell_type": "code",
   "execution_count": null,
   "metadata": {
    "collapsed": true
   },
   "outputs": [],
   "source": [
    "#dfs 遍历一个树的例子\n",
    "# Definition for a binary tree node.\n",
    "# class TreeNode:\n",
    "#     def __init__(self, x):\n",
    "#         self.val = x\n",
    "#         self.left = None\n",
    "#         self.right = None\n",
    "\n",
    "class Solution:\n",
    "    def maxDepth(self, root):\n",
    "        \"\"\"\n",
    "        :type root: TreeNode\n",
    "        :rtype: int\n",
    "        \"\"\"\n",
    "        self.ret = [root.val]\n",
    "        self.dfs(root.left)\n",
    "        self.dfs(root.right)\n",
    "        print(self.ret)\n",
    "    def dfs(self, root):\n",
    "        self.ret.append(root.val)\n",
    "#         if root.val == None:\n",
    "#             return \n",
    "        if root.left:\n",
    "            self.dfs(root.left)\n",
    "        if root.right:\n",
    "            self.dfs(root.right)"
   ]
  },
  {
   "cell_type": "code",
   "execution_count": null,
   "metadata": {
    "collapsed": true
   },
   "outputs": [],
   "source": [
    "#104.树的最大深度\n",
    "# Definition for a binary tree node.  \n",
    "# class TreeNode(object):  \n",
    "#     def __init__(self, x):  \n",
    "#         self.val = x  \n",
    "#         self.left = None  \n",
    "#         self.right = None  \n",
    "  \n",
    "class Solution(object):  \n",
    "    def maxDepth(self, root):  \n",
    "        \"\"\" \n",
    "        :type root: TreeNode \n",
    "        :rtype: int \n",
    "        \"\"\"  \n",
    "        if root == None: return 0  \n",
    "        leftDepth = self.maxDepth(root.left)  \n",
    "        rightDepth = self.maxDepth(root.right)  \n",
    "        return leftDepth + 1 if leftDepth > rightDepth else rightDepth + 1"
   ]
  }
 ],
 "metadata": {
  "kernelspec": {
   "display_name": "Python 3",
   "language": "python",
   "name": "python3"
  },
  "language_info": {
   "codemirror_mode": {
    "name": "ipython",
    "version": 3
   },
   "file_extension": ".py",
   "mimetype": "text/x-python",
   "name": "python",
   "nbconvert_exporter": "python",
   "pygments_lexer": "ipython3",
   "version": "3.6.2"
  }
 },
 "nbformat": 4,
 "nbformat_minor": 2
}
