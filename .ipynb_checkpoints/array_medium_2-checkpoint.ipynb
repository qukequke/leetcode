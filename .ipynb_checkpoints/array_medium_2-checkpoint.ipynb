{
 "cells": [
  {
   "cell_type": "code",
   "execution_count": 18,
   "metadata": {},
   "outputs": [
    {
     "data": {
      "text/plain": [
       "[]"
      ]
     },
     "execution_count": 18,
     "metadata": {},
     "output_type": "execute_result"
    }
   ],
   "source": [
    "#80. Remove Duplicates from Sorted Array II\n",
    "def remove_dup(nums):\n",
    "    i = 0\n",
    "    a = {}\n",
    "#     print(len(nums))\n",
    "    while i < len(nums):\n",
    "        print(a)\n",
    "        if nums[i] not in a:\n",
    "            a[nums[i]] = 1\n",
    "        else:\n",
    "            a[nums[i]] += 1\n",
    "        if a[nums[i]] > 2:\n",
    "            del nums[i]\n",
    "            i -= 1\n",
    "        i += 1\n",
    "    return nums\n",
    "remove_dup([])"
   ]
  },
  {
   "cell_type": "code",
   "execution_count": 21,
   "metadata": {},
   "outputs": [
    {
     "data": {
      "text/plain": [
       "[2]"
      ]
     },
     "execution_count": 21,
     "metadata": {},
     "output_type": "execute_result"
    }
   ],
   "source": [
    "#78. Subsets\n",
    "class Solution:\n",
    "    # @param S, a list of integer\n",
    "    # @return a list of lists of integer\n",
    "    def dfs(self, start, S, result, father_subsets):\n",
    "        result.append(father_subsets)\n",
    "        for i in range(start, len(S)):\n",
    "            self.dfs(i+1, S, result, father_subsets+[S[i]])\n",
    "    def subsets(self, S):\n",
    "        # none case\n",
    "        if S is None:\n",
    "            return []\n",
    "        # deep first search\n",
    "        result = []\n",
    "        self.dfs(0, sorted(S), result, [])\n",
    "        return result"
   ]
  },
  {
   "cell_type": "code",
   "execution_count": null,
   "metadata": {
    "collapsed": true
   },
   "outputs": [],
   "source": []
  }
 ],
 "metadata": {
  "kernelspec": {
   "display_name": "Python 3",
   "language": "python",
   "name": "python3"
  },
  "language_info": {
   "codemirror_mode": {
    "name": "ipython",
    "version": 3
   },
   "file_extension": ".py",
   "mimetype": "text/x-python",
   "name": "python",
   "nbconvert_exporter": "python",
   "pygments_lexer": "ipython3",
   "version": "3.6.2"
  }
 },
 "nbformat": 4,
 "nbformat_minor": 2
}
