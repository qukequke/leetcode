{
 "cells": [
  {
   "cell_type": "code",
   "execution_count": 18,
   "metadata": {},
   "outputs": [
    {
     "name": "stdout",
     "output_type": "stream",
     "text": [
      "cur=1\n",
      "start=0\n",
      "len_=1\n",
      "max_len=1\n",
      "\n",
      "cur=2\n",
      "start=0\n",
      "len_=2\n",
      "max_len=2\n",
      "\n",
      "cur=3\n",
      "start=0\n",
      "len_=3\n",
      "max_len=3\n",
      "\n",
      "cur=2\n",
      "start=1\n",
      "len_=1\n",
      "max_len=3\n",
      "\n",
      "cur=3\n",
      "start=1\n",
      "len_=2\n",
      "max_len=3\n",
      "\n",
      "cur=4\n",
      "start=1\n",
      "len_=3\n",
      "max_len=3\n",
      "\n",
      "cur=3\n",
      "start=2\n",
      "len_=1\n",
      "max_len=3\n",
      "\n",
      "cur=4\n",
      "start=2\n",
      "len_=2\n",
      "max_len=3\n",
      "\n",
      "cur=5\n",
      "start=2\n",
      "len_=3\n",
      "max_len=3\n",
      "\n",
      "cur=4\n",
      "start=3\n",
      "len_=1\n",
      "max_len=3\n",
      "\n",
      "cur=5\n",
      "start=3\n",
      "len_=2\n",
      "max_len=3\n",
      "\n",
      "cur=6\n",
      "start=3\n",
      "len_=3\n",
      "max_len=3\n",
      "\n",
      "cur=5\n",
      "start=4\n",
      "len_=1\n",
      "max_len=3\n",
      "\n",
      "cur=6\n",
      "start=4\n",
      "len_=2\n",
      "max_len=3\n",
      "\n",
      "cur=6\n",
      "start=5\n",
      "len_=1\n",
      "max_len=3\n",
      "\n",
      "cur=7\n",
      "start=5\n",
      "len_=2\n",
      "max_len=3\n",
      "\n",
      "cur=7\n",
      "start=6\n",
      "len_=1\n",
      "max_len=3\n",
      "\n",
      "cur=8\n",
      "start=7\n",
      "len_=1\n",
      "max_len=3\n",
      "\n"
     ]
    },
    {
     "data": {
      "text/plain": [
       "3"
      ]
     },
     "execution_count": 18,
     "metadata": {},
     "output_type": "execute_result"
    }
   ],
   "source": [
    "# TL了\n",
    "#3. 无重复字符的最长子串\n",
    "def lengthOfLongestSubstring(s):\n",
    "    length = len(s)\n",
    "    start = 0\n",
    "    end = length\n",
    "    cur = 1\n",
    "    max_len = 1\n",
    "    len_ = 1\n",
    "    max_list = []\n",
    "    while start < end:\n",
    "        print('cur='+str(cur))\n",
    "        print('start='+str(start))\n",
    "        print('len_='+str(len_))\n",
    "        print('max_len='+str(max_len))\n",
    "        print('')\n",
    "        if cur < end and s[cur] not in list(s[start:cur]):\n",
    "            len_ += 1\n",
    "            cur += 1\n",
    "        else:\n",
    "            len_ = 1\n",
    "            start += 1\n",
    "            cur = start + 1\n",
    "        max_len = max(max_len, len_)\n",
    "    return max_len\n",
    "lengthOfLongestSubstring(\"abcabcbb\")"
   ]
  },
  {
   "cell_type": "code",
   "execution_count": 19,
   "metadata": {
    "collapsed": true
   },
   "outputs": [],
   "source": [
    "import scipy.io as sio"
   ]
  },
  {
   "cell_type": "code",
   "execution_count": 29,
   "metadata": {},
   "outputs": [
    {
     "name": "stdout",
     "output_type": "stream",
     "text": [
      "{2: ['a', 'b', 'c'], 3: ['d', 'e', 'f'], 4: ['g', 'h', 'i'], 5: ['j', 'k', 'l'], 6: ['m', 'n', 'o'], 7: ['p', 'q', 'r', 's'], 8: ['t', 'u', 'c'], 9: ['w', 'x', 'y', 'z']}\n"
     ]
    }
   ],
   "source": [
    "alpha = []\n",
    "for i in range(97, 123):    \n",
    "    alpha.append(chr(i))\n",
    "list_ = []\n",
    "c = {}\n",
    "for j in range(2, 8):\n",
    "    list_.append(alpha[3*j:3*(j+1)])\n",
    "    if j == 7:\n",
    "        c[j] = alpha[3*(j-2):3*j-2]\n",
    "    else:\n",
    "        c[j] = alpha[3*(j-2):3*(j-1)]\n",
    "c[8] = list('tuc')\n",
    "c[9] = list('wxyz')\n",
    "print(c)\n",
    "digits\n",
    "#         print(list_)"
   ]
  },
  {
   "cell_type": "code",
   "execution_count": 35,
   "metadata": {},
   "outputs": [
    {
     "data": {
      "text/plain": [
       "['ad', 'bd', 'cd', 'ae', 'be', 'ce', 'af', 'bf', 'cf']"
      ]
     },
     "execution_count": 35,
     "metadata": {},
     "output_type": "execute_result"
    }
   ],
   "source": [
    "#17. 电话号码的字母组合\n",
    "#  dfs题目\n",
    "def letterCombBT(digit, oldStrList, DigitDict):\n",
    "    return [dstr+i for i in DigitDict[digit] for dstr in oldStrList]\n",
    "\n",
    "def letterCombinations(digits):\n",
    "    \"\"\"\n",
    "    :type digits: str\n",
    "    :rtype: List[str]\n",
    "    \"\"\"\n",
    "    if digits == '':\n",
    "        return []\n",
    "    DigitDict=[' ','1', \"abc\", \"def\", \"ghi\", \"jkl\", \"mno\", \"pqrs\", \"tuv\", \"wxyz\"]\n",
    "    res = ['']\n",
    "    for d in digits:\n",
    "        res = letterCombBT(int(d),res, DigitDict)\n",
    "    return res\n",
    "\n",
    "letterCombinations('23')"
   ]
  },
  {
   "cell_type": "code",
   "execution_count": null,
   "metadata": {
    "collapsed": true
   },
   "outputs": [],
   "source": []
  }
 ],
 "metadata": {
  "kernelspec": {
   "display_name": "Python 3",
   "language": "python",
   "name": "python3"
  },
  "language_info": {
   "codemirror_mode": {
    "name": "ipython",
    "version": 3
   },
   "file_extension": ".py",
   "mimetype": "text/x-python",
   "name": "python",
   "nbconvert_exporter": "python",
   "pygments_lexer": "ipython3",
   "version": "3.6.2"
  }
 },
 "nbformat": 4,
 "nbformat_minor": 2
}
