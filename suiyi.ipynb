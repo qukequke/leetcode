{
 "cells": [
  {
   "cell_type": "code",
   "execution_count": 32,
   "metadata": {},
   "outputs": [
    {
     "name": "stdout",
     "output_type": "stream",
     "text": [
      "Counter({2: 2, 1: 1})\n",
      "{3}\n",
      "[2, 3]\n"
     ]
    }
   ],
   "source": [
    "def find_error_num(nums):\n",
    "    from collections import Counter\n",
    "    print(Counter(nums))\n",
    "    counter = Counter(nums)\n",
    "    a = []\n",
    "    for i, j in counter.items():\n",
    "          if j != 1:\n",
    "                a.append(i)\n",
    "    b = set(counter.keys())\n",
    "    loss_value = set([x+1 for x in range(len(nums))])-b\n",
    "    print(loss_value)\n",
    "    a.append(list(loss_value)[0])\n",
    "    print(a)\n",
    "find_error_num([1,2,2])"
   ]
  },
  {
   "cell_type": "code",
   "execution_count": 48,
   "metadata": {},
   "outputs": [
    {
     "name": "stdout",
     "output_type": "stream",
     "text": [
      "[2, 3, 3, 4, 5, 6]\n",
      "[1, 2, 3, 4, 5, 6]\n"
     ]
    },
    {
     "data": {
      "text/plain": [
       "[1, 3]"
      ]
     },
     "execution_count": 48,
     "metadata": {},
     "output_type": "execute_result"
    }
   ],
   "source": [
    "def find_error_num1(nums):\n",
    "    nums.sort()\n",
    "    length = len(nums)\n",
    "    c = []\n",
    "    dict_ = {}\n",
    "    a = [x+1 for x in range(length)]\n",
    "    d = []\n",
    "    print(nums)\n",
    "    print(a)\n",
    "    for i in range(length):\n",
    "        if nums[i] not in dict_:\n",
    "            dict_[nums[i]] = 1\n",
    "        else:\n",
    "            c.append(nums[i])\n",
    "        if nums[i] != a[i]:\n",
    "            c.append(a[i])\n",
    "#         print(dict_)\n",
    "    d.append(c[0])\n",
    "    d.append(c[-1])\n",
    "    return d\n",
    "find_error_num1([3,2,3,4,6,5])\n",
    "            "
   ]
  },
  {
   "cell_type": "code",
   "execution_count": 49,
   "metadata": {},
   "outputs": [
    {
     "data": {
      "text/plain": [
       "'c'"
      ]
     },
     "execution_count": 49,
     "metadata": {},
     "output_type": "execute_result"
    }
   ],
   "source": []
  },
  {
   "cell_type": "code",
   "execution_count": 52,
   "metadata": {},
   "outputs": [
    {
     "name": "stdout",
     "output_type": "stream",
     "text": [
      "c\n",
      "b\n",
      "a\n"
     ]
    }
   ],
   "source": [
    "#680 valid_Palindrome\n",
    "def valid_pa(s):\n",
    "    for i in reversed(range(len(s))):\n",
    "        if \n",
    "valid_pa('abc')"
   ]
  },
  {
   "cell_type": "code",
   "execution_count": 3,
   "metadata": {},
   "outputs": [
    {
     "name": "stdout",
     "output_type": "stream",
     "text": [
      "0\n",
      "b\n",
      "first flag0\n",
      "0\n",
      "2\n",
      "3\n",
      "1\n",
      "4\n",
      "4\n",
      "['a', 'app', 'appl', 'ap', 'apply', 'apple']\n"
     ]
    },
    {
     "data": {
      "text/plain": [
       "'apply'"
      ]
     },
     "execution_count": 3,
     "metadata": {},
     "output_type": "execute_result"
    }
   ],
   "source": [
    "def longestWord(words):\n",
    "    \"\"\"\n",
    "    :type words: List[str]\n",
    "    :rtype: str\n",
    "    \"\"\"\n",
    "    a = []\n",
    "    for word in words:\n",
    "        flag = 0\n",
    "        for i in range(1, len(word)):\n",
    "            if word[:i] not in words:\n",
    "                print(word[:i])\n",
    "                print('first flag'+str(flag))\n",
    "                break\n",
    "            flag += 1\n",
    "        print(flag)\n",
    "        if flag == len(word)-1:\n",
    "            a.append(word)\n",
    "    ret = 0\n",
    "    print(a)\n",
    "    ret = a[0]\n",
    "    for i in a:\n",
    "        if len(i) > len(ret):\n",
    "            ret = i\n",
    "    return ret\n",
    "longestWord([\"a\",\"banana\",\"app\",\"appl\",\"ap\",\"apply\",\"apple\"])"
   ]
  },
  {
   "cell_type": "code",
   "execution_count": 18,
   "metadata": {},
   "outputs": [
    {
     "name": "stdout",
     "output_type": "stream",
     "text": [
      "['a', 'ap', 'app', 'appl', 'apple', 'apply', 'banana']\n",
      "------\n",
      "\n",
      "------\n",
      "a\n",
      "------\n",
      "ap\n",
      "------\n",
      "app\n",
      "------\n",
      "appl\n",
      "------\n",
      "appl\n",
      "------\n",
      "banan\n",
      "{' '}\n"
     ]
    },
    {
     "data": {
      "text/plain": [
       "''"
      ]
     },
     "execution_count": 18,
     "metadata": {},
     "output_type": "execute_result"
    }
   ],
   "source": [
    "#leetcode 720给出一个字符串数组words组成的一本英语词典。从中找出最长的一个单词，\n",
    "#该单词是由words词典中其他单词逐步添加一个字母组成。若其中有多个可行的答案，则返回答案中字典序最小的单词。\n",
    "#若无答案，则返回空字符串\n",
    "def longestWord1(words):\n",
    "    \"\"\"\n",
    "    :type words: List[str]\n",
    "    :rtype: str\n",
    "    \"\"\"\n",
    "    wset = set([' '])\n",
    "    ans = ''\n",
    "    print(sorted(words))\n",
    "    for word in sorted(words):\n",
    "        print('------')\n",
    "        print(word[:-1])\n",
    "        if word[:-1] in wset:\n",
    "            wset.add(word)\n",
    "            if len(word) > len(ans):\n",
    "                ans = word\n",
    "    print(wset)\n",
    "    return ans\n",
    "longestWord1([\"a\",\"banana\",\"app\",\"appl\",\"ap\",\"apply\",\"apple\"])"
   ]
  },
  {
   "cell_type": "code",
   "execution_count": 21,
   "metadata": {},
   "outputs": [
    {
     "data": {
      "text/plain": [
       "True"
      ]
     },
     "execution_count": 21,
     "metadata": {},
     "output_type": "execute_result"
    }
   ],
   "source": [
    "'a'.isalpha()"
   ]
  },
  {
   "cell_type": "code",
   "execution_count": 23,
   "metadata": {},
   "outputs": [
    {
     "data": {
      "text/plain": [
       "False"
      ]
     },
     "execution_count": 23,
     "metadata": {},
     "output_type": "execute_result"
    }
   ],
   "source": [
    "'a'.isupper()"
   ]
  },
  {
   "cell_type": "code",
   "execution_count": 24,
   "metadata": {},
   "outputs": [
    {
     "name": "stdout",
     "output_type": "stream",
     "text": [
      "0\n",
      "1\n",
      "2\n"
     ]
    }
   ],
   "source": [
    "for i,j in enumerate('abc'):\n",
    "    print(i)"
   ]
  },
  {
   "cell_type": "code",
   "execution_count": 25,
   "metadata": {},
   "outputs": [
    {
     "data": {
      "text/plain": [
       "'A'"
      ]
     },
     "execution_count": 25,
     "metadata": {},
     "output_type": "execute_result"
    }
   ],
   "source": [
    "'a'.upper()"
   ]
  },
  {
   "cell_type": "code",
   "execution_count": 28,
   "metadata": {},
   "outputs": [
    {
     "name": "stdout",
     "output_type": "stream",
     "text": [
      "s=a1b2\n",
      "['a1b2', 'A1b2']\n",
      "s=a1b2\n",
      "s=A1b2\n",
      "['a1b2', 'A1b2']\n",
      "s=a1b2\n",
      "s=A1b2\n",
      "['a1b2', 'a1B2', 'A1b2', 'A1B2']\n",
      "s=a1b2\n",
      "s=a1B2\n",
      "s=A1b2\n",
      "s=A1B2\n",
      "['a1b2', 'a1B2', 'A1b2', 'A1B2']\n"
     ]
    },
    {
     "data": {
      "text/plain": [
       "['a1b2', 'a1B2', 'A1b2', 'A1B2']"
      ]
     },
     "execution_count": 28,
     "metadata": {},
     "output_type": "execute_result"
    }
   ],
   "source": [
    "def letterCasePermutation(S):\n",
    "    \"\"\"\n",
    "    :type S: str\n",
    "    :rtype: List[str]\n",
    "    131ms\n",
    "    \"\"\"\n",
    "    # 记录当前所有的分支\n",
    "    cur_s =[S]\n",
    "    # 每次都从上一轮记录的位置的下一位开始计算\n",
    "    for i in range(len(S)):\n",
    "        next_s = []\n",
    "        for s in cur_s:  #循环的list是动态变化的\n",
    "            print('s='+str(s))\n",
    "            # 如果是数字，则当前分支直接加入下轮的分支\n",
    "            if s[i].isdigit():\n",
    "                next_s.append(s)\n",
    "            # 如果是字母，则当前分支分为大小写两种加入下轮的分支\n",
    "            else:\n",
    "                next_s.append(s[0:i] + s[i].lower() + s[i + 1:])\n",
    "                next_s.append(s[0:i] + s[i].upper() + s[i + 1:])\n",
    "        print(next_s)\n",
    "        cur_s = next_s\n",
    "    return cur_s\n",
    "letterCasePermutation('a1b2')"
   ]
  },
  {
   "cell_type": "code",
   "execution_count": null,
   "metadata": {
    "collapsed": true
   },
   "outputs": [],
   "source": []
  }
 ],
 "metadata": {
  "kernelspec": {
   "display_name": "Python 3",
   "language": "python",
   "name": "python3"
  },
  "language_info": {
   "codemirror_mode": {
    "name": "ipython",
    "version": 3
   },
   "file_extension": ".py",
   "mimetype": "text/x-python",
   "name": "python",
   "nbconvert_exporter": "python",
   "pygments_lexer": "ipython3",
   "version": "3.6.2"
  }
 },
 "nbformat": 4,
 "nbformat_minor": 2
}
