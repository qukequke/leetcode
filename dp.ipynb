{
 "cells": [
  {
   "cell_type": "code",
   "execution_count": 2,
   "metadata": {},
   "outputs": [
    {
     "data": {
      "text/plain": [
       "15"
      ]
     },
     "execution_count": 2,
     "metadata": {},
     "output_type": "execute_result"
    }
   ],
   "source": [
    "#递归方法  打家劫舍（只能取相邻的，找最大值）\n",
    "def rec_dp(arr, i):\n",
    "    if i == 0:\n",
    "        return arr[i]\n",
    "    elif i == 1:\n",
    "        return max(arr[0], arr[1])\n",
    "    else:\n",
    "        A = rec_dp(arr, i-2) + arr[i] #选中当前这个值，结果是当前值加上i-2时的最优值\n",
    "        B = rec_dp(arr, i-1)\n",
    "        return max(A, B)\n",
    "rec_dp([1,2,4,1,7,8,3], 6)"
   ]
  },
  {
   "cell_type": "code",
   "execution_count": 4,
   "metadata": {},
   "outputs": [
    {
     "name": "stdout",
     "output_type": "stream",
     "text": [
      "[  1.   2.   5.   5.  12.  13.  15.]\n"
     ]
    },
    {
     "data": {
      "text/plain": [
       "15.0"
      ]
     },
     "execution_count": 4,
     "metadata": {},
     "output_type": "execute_result"
    }
   ],
   "source": [
    "#由于递归方法复杂度高2**n （由于不存中间数，每个都重新计算） 一般改成不是递归的\n",
    "import numpy as np\n",
    "def dp(arr):\n",
    "    opt = np.zeros(len(arr))\n",
    "    opt[0] = arr[0]\n",
    "    opt[1] = max(arr[0], arr[1])\n",
    "    for i in range(2, len(arr)):\n",
    "        A = opt[i-2] + arr[i]\n",
    "        B = opt[i-1]\n",
    "        opt[i] = max(A, B)\n",
    "    print(opt)\n",
    "    return opt[i]\n",
    "dp([1,2,4,1,7,8,3])"
   ]
  },
  {
   "cell_type": "code",
   "execution_count": 9,
   "metadata": {},
   "outputs": [
    {
     "data": {
      "text/plain": [
       "8"
      ]
     },
     "execution_count": 9,
     "metadata": {},
     "output_type": "execute_result"
    }
   ],
   "source": [
    "##斐波那契数列 [1,1,2,3,5,8]\n",
    "def fib(i):\n",
    "    if i == 0 or i == 1:\n",
    "        return 1\n",
    "    else:\n",
    "        return fib(i-1) + fib(i-2)\n",
    "fib(5)"
   ]
  },
  {
   "cell_type": "code",
   "execution_count": 19,
   "metadata": {},
   "outputs": [
    {
     "name": "stdout",
     "output_type": "stream",
     "text": [
      "[1, 1, 2, 3, 5, 8]\n"
     ]
    },
    {
     "data": {
      "text/plain": [
       "8"
      ]
     },
     "execution_count": 19,
     "metadata": {},
     "output_type": "execute_result"
    }
   ],
   "source": [
    "# import numpy as np\n",
    "def fib1(i):\n",
    "    i = i+1\n",
    "    opt = np.zeros(i)\n",
    "    opt = [0 for _ in range(i)]\n",
    "    opt[0], opt[1] = 1,1\n",
    "    for k in range(2, i):\n",
    "        opt[k] = opt[k-1] + opt[k-2]\n",
    "    print(opt)\n",
    "    return opt[k]\n",
    "fib1(5)"
   ]
  },
  {
   "cell_type": "code",
   "execution_count": 4,
   "metadata": {},
   "outputs": [
    {
     "name": "stdout",
     "output_type": "stream",
     "text": [
      "True\n",
      "True\n",
      "True\n",
      "True\n",
      "False\n",
      "True\n",
      "True\n",
      "True\n",
      "True\n",
      "False\n"
     ]
    }
   ],
   "source": [
    "# k_sum 是否存在数加起来可以得到target\n",
    "def k_sum(nums, i, target):\n",
    "    if target == 0:\n",
    "        return True\n",
    "    elif i == 0:\n",
    "        return nums[i] == target\n",
    "    elif nums[i] > target:\n",
    "        return k_sum(nums, i-1, target)\n",
    "    else:\n",
    "        A = k_sum(nums, i-1, target)\n",
    "        B = k_sum(nums, i-1, target - nums[i])\n",
    "        return A or B\n",
    "    \n",
    "    \n",
    "def k_sum2(nums, target):\n",
    "    import numpy as np\n",
    "    subset = np.zeros((len(nums), target+1), dtype=bool)\n",
    "    subset[:, 0] = True\n",
    "    \n",
    "    subset[0, :] = False\n",
    "    subset[0, nums[0]] = True\n",
    "    subset[0, 0] = True\n",
    "    for i in range(1, len(nums)):\n",
    "        for s in range(1, target+1):\n",
    "            if nums[i] > s:\n",
    "                subset[i, s] = subset[i-1, s]\n",
    "            else:\n",
    "                A = subset[i-1, s]\n",
    "                B = subset[i-1, s-nums[i]]\n",
    "                subset[i, s] = A or B\n",
    "#     print(subset)\n",
    "    return subset[i, s]\n",
    "print(k_sum([3, 34, 4, 12, 5, 2],  5, 9))\n",
    "print(k_sum([3, 34, 4, 12, 5, 2],  5, 10))\n",
    "print(k_sum([3, 34, 4, 12, 5, 2],  5, 11))\n",
    "print(k_sum([3, 34, 4, 12, 5, 2],  5, 12))\n",
    "print(k_sum([3, 34, 4, 12, 5, 2],  5, 13))\n",
    "\n",
    "print(k_sum2([3, 34, 4, 12, 5, 2], 9))\n",
    "print(k_sum2([3, 34, 4, 12, 5, 2], 10))\n",
    "print(k_sum2([3, 34, 4, 12, 5, 2], 11))\n",
    "print(k_sum2([3, 34, 4, 12, 5, 2], 12))\n",
    "print(k_sum2([3, 34, 4, 12, 5, 2], 13))"
   ]
  },
  {
   "cell_type": "code",
   "execution_count": 32,
   "metadata": {},
   "outputs": [
    {
     "name": "stdout",
     "output_type": "stream",
     "text": [
      "True\n",
      "True\n",
      "True\n",
      "True\n",
      "False\n",
      "True\n"
     ]
    }
   ],
   "source": [
    "#自己觉得这样就可以 ，有待验证\n",
    "def k_sum(nums, sum_):\n",
    "    dp = np.zeros((len(nums)+1, sum_+1), dtype=bool)\n",
    "    dp[:, 0] = True\n",
    "#     dp[1, nums[0]] = True\n",
    "    for i in range(1, len(nums)+1):\n",
    "        for j in range(1, sum_+1):\n",
    "            if  j < nums[i-1]:\n",
    "                dp[i][j] = dp[i-1][j]\n",
    "            else:\n",
    "                dp[i][j] = dp[i-1, j-nums[i-1]] or dp[i-1, j]\n",
    "    return dp[-1][-1]\n",
    "#     print(dp)\n",
    "print(k_sum([3, 34, 4, 12, 5, 2], 9))\n",
    "print(k_sum([3, 34, 4, 12, 5, 2], 10))\n",
    "print(k_sum([3, 34, 4, 12, 5, 2], 11))\n",
    "print(k_sum([3, 34, 4, 12, 5, 2], 12))\n",
    "print(k_sum([3, 34, 4, 12, 5, 2], 13))\n",
    "print(k_sum([3], 3))\n",
    "    "
   ]
  },
  {
   "cell_type": "markdown",
   "metadata": {
    "collapsed": true
   },
   "source": [
    "## dfs， bfs\n",
    "\n",
    "## \n"
   ]
  },
  {
   "cell_type": "markdown",
   "metadata": {},
   "source": [
    "![title](img/2.jpg)"
   ]
  },
  {
   "cell_type": "code",
   "execution_count": 3,
   "metadata": {
    "collapsed": true
   },
   "outputs": [],
   "source": [
    "graph = {'A': ['B', 'C'],   #图用字典表示\n",
    "         'B': ['A', 'C', 'D'], \n",
    "         'C': ['A', 'B', 'D', 'E'], \n",
    "         'D': ['B', 'C', 'E', 'F'], \n",
    "         'E':['C', 'D'], \n",
    "         'F':['D']}"
   ]
  },
  {
   "cell_type": "code",
   "execution_count": 12,
   "metadata": {},
   "outputs": [
    {
     "name": "stdout",
     "output_type": "stream",
     "text": [
      "ABCDEF\n",
      "ECDABF"
     ]
    }
   ],
   "source": [
    "def bfs(graph, s):  #建立一个队列 只有队列有节点，pop出来节点 然后看他的所有连接节点，如果是没见过的节点\n",
    "    queue = []      #就append到stack里面 \n",
    "    queue.append(s)\n",
    "    seen_node = [s]\n",
    "    while queue:\n",
    "        node = queue.pop(0)\n",
    "        for node_single in graph[node]:\n",
    "            if node_single not in seen_node:\n",
    "                queue.append(node_single)\n",
    "                seen_node.append(node_single)\n",
    "        print(node, end='')\n",
    "bfs(graph, 'A')\n",
    "print('')\n",
    "bfs(graph, 'E')"
   ]
  },
  {
   "cell_type": "code",
   "execution_count": 18,
   "metadata": {},
   "outputs": [
    {
     "name": "stdout",
     "output_type": "stream",
     "text": [
      "ACEDFB\n",
      "EDFBAC"
     ]
    }
   ],
   "source": [
    "def dfs(graph, s):  #直接把队列改成栈就完事了，别的啥都不用改\n",
    "    stack = [s]  \n",
    "    seen_node = [s]\n",
    "    while stack:\n",
    "        node = stack.pop()\n",
    "        for node_single in graph[node]:\n",
    "            if node_single not in seen_node:\n",
    "                stack.append(node_single)\n",
    "                seen_node.append(node_single)\n",
    "        print(node, end='')   \n",
    "dfs(graph, 'A')\n",
    "print('')\n",
    "dfs(graph, 'E')"
   ]
  },
  {
   "cell_type": "code",
   "execution_count": 34,
   "metadata": {},
   "outputs": [
    {
     "name": "stdout",
     "output_type": "stream",
     "text": [
      "ECDABF\n",
      "{'E': None, 'C': 'E', 'D': 'E', 'A': 'C', 'B': 'C', 'F': 'D'}\n",
      "B\n",
      "C\n",
      "E\n"
     ]
    }
   ],
   "source": [
    "def dfs(graph, s):   #拓展， 寻找最短路径\n",
    "    stack = [s]  \n",
    "    seen_node = [s]\n",
    "    parent = {s: None}\n",
    "    while stack:\n",
    "        node = stack.pop(0)    # ######### 加0 是E -> C -> B 不加0 是 E -> D -> B\n",
    "        for node_single in graph[node]:\n",
    "            if node_single not in seen_node:\n",
    "                stack.append(node_single)\n",
    "                seen_node.append(node_single)\n",
    "                parent[node_single] = node\n",
    "        print(node, end='')   \n",
    "    return parent\n",
    "# dfs(graph, 'A')\n",
    "# print('')\n",
    "parent = dfs(graph, 'E')  #得到储存所有上一步节点的字典  算E -> B的最短路径\n",
    "print('') \n",
    "print(parent)\n",
    "# for i, j in parent.items():\n",
    "#     print(i, j)\n",
    "v = 'B'\n",
    "while v!=None:\n",
    "    print(v)\n",
    "    v = parent[v]\n",
    "    "
   ]
  },
  {
   "cell_type": "markdown",
   "metadata": {},
   "source": [
    "## 带距离的最短路径\n",
    "\n",
    "![title](img/1.png)"
   ]
  },
  {
   "cell_type": "code",
   "execution_count": 37,
   "metadata": {
    "collapsed": true
   },
   "outputs": [],
   "source": [
    "import heapq\n",
    "graph = {'A': {'B':5, 'C':1},   #图用字典表示\n",
    "         'B': {}'A':5, 'C', 'D'}, \n",
    "         'C': ['A', 'B', 'D', 'E'], \n",
    "         'D': ['B', 'C', 'E', 'F'], \n",
    "         'E':['C', 'D'], \n",
    "         'F':['D']}\n"
   ]
  },
  {
   "cell_type": "code",
   "execution_count": 39,
   "metadata": {},
   "outputs": [
    {
     "data": {
      "text/plain": [
       "[(3, 'A')]"
      ]
     },
     "execution_count": 39,
     "metadata": {},
     "output_type": "execute_result"
    }
   ],
   "source": [
    "a = []\n",
    "heapq.heappush(a, (3, 'A'))\n",
    "a"
   ]
  },
  {
   "cell_type": "code",
   "execution_count": 51,
   "metadata": {},
   "outputs": [
    {
     "name": "stdout",
     "output_type": "stream",
     "text": [
      "{'A': None, 'B': 'C', 'C': 'A', 'D': 'B', 'E': 'D', 'F': 'D'}\n",
      "{'A': 0, 'B': 3, 'C': 1, 'D': 4, 'E': 7, 'F': 10}\n"
     ]
    }
   ],
   "source": [
    "import heapq\n",
    "import math\n",
    "graph = {'A': {'B':5, 'C':1},   #图用字典表示\n",
    "         'B': {'A':5, 'C':2, 'D':1}, \n",
    "         'C': {'A':1, 'B':2, 'D':4, 'E':8}, \n",
    "         'D': {'B':1, 'C':4, 'E':3, 'F':6}, \n",
    "         'E':{'C':8, 'D':3}, \n",
    "         'F':{'D':6}}\n",
    "\n",
    "def init_distance(graph, s):\n",
    "\tdistance = {s:0}\n",
    "\tfor i in graph.keys():\n",
    "\t\tif i is not s:\n",
    "\t\t\tdistance[i] = math.inf\n",
    "\treturn distance\n",
    "\n",
    "def short_path(graph, s):\n",
    "\tpqueue = []\n",
    "\theapq.heappush(pqueue, (0, s))\n",
    "\tparent = {s:None}\n",
    "\tdistance = init_distance(graph, s)\n",
    "\tseen = []\n",
    "\twhile pqueue:\n",
    "\t\tdist, vertex = heapq.heappop(pqueue)\n",
    "\t\tseen.append(vertex)  #只能说明父节点处理过了，每个子节点都要再处理 \n",
    "\t\tfor w in graph[vertex].keys():\n",
    "\t\t\tif w not in seen:\n",
    "\t\t\t\tif dist + graph[vertex][w] < distance[w]:\n",
    "\t\t\t\t\tdistance[w] = dist + graph[vertex][w]\n",
    "\t\t\t\t\theapq.heappush(pqueue, (dist+graph[vertex][w], w))\n",
    "\t\t\t\t\tparent[w] = vertex\n",
    "\treturn parent, distance\n",
    "parent, distance = short_path(graph, 'A')\n",
    "print(parent)\n",
    "print(distance)"
   ]
  },
  {
   "cell_type": "code",
   "execution_count": 50,
   "metadata": {},
   "outputs": [
    {
     "name": "stdout",
     "output_type": "stream",
     "text": [
      "F\n",
      "D\n",
      "B\n",
      "C\n",
      "A\n"
     ]
    }
   ],
   "source": [
    "## 求出内个最短的路径  （这是反向的）\n",
    "v = 'F' \n",
    "while v is not None:\n",
    "    print(v)\n",
    "    v = parent[v]"
   ]
  },
  {
   "cell_type": "code",
   "execution_count": 11,
   "metadata": {},
   "outputs": [
    {
     "name": "stdout",
     "output_type": "stream",
     "text": [
      "[1, 3, 1, 5, 6]\n"
     ]
    },
    {
     "data": {
      "text/plain": [
       "6"
      ]
     },
     "execution_count": 11,
     "metadata": {},
     "output_type": "execute_result"
    }
   ],
   "source": [
    "def maxSubArray(nums):  \n",
    "    \"\"\" \n",
    "    :type nums: List[int] \n",
    "    :rtype: int \n",
    "    \"\"\"  \n",
    "    length=len(nums)  \n",
    "    for i in range(1,length):  \n",
    "        #当前值的大小与前面的值之和比较，若当前值更大，则取当前值，舍弃前面的值之和  \n",
    "        subMaxSum=max(nums[i]+nums[i-1],nums[i])  \n",
    "        nums[i]=subMaxSum#将当前和最大的赋给nums[i]，新的nums存储的为和值  \n",
    "    print(nums)\n",
    "    return max(nums) \n",
    "maxSubArray([1,2,-2,4,1])"
   ]
  },
  {
   "cell_type": "code",
   "execution_count": 8,
   "metadata": {},
   "outputs": [
    {
     "name": "stdout",
     "output_type": "stream",
     "text": [
      "1\n",
      "3\n",
      "3\n",
      "5\n",
      "5\n",
      "5\n"
     ]
    }
   ],
   "source": [
    "def max_sub(nums):\n",
    "    cur_sum = 0\n",
    "    max_sum = nums[0]\n",
    "    for i in range(len(nums)):\n",
    "        cur_sum += nums[i]\n",
    "        max_sum = max(cur_sum, max_sum)\n",
    "        if cur_sum < 0: #如果当前和<0 说明前面全不能用\n",
    "            cur_sum = 0\n",
    "        print(max_sum)\n",
    "max_sub([1,2,-2,4,-2, 1])"
   ]
  },
  {
   "cell_type": "code",
   "execution_count": 27,
   "metadata": {},
   "outputs": [
    {
     "data": {
      "text/plain": [
       "1"
      ]
     },
     "execution_count": 27,
     "metadata": {},
     "output_type": "execute_result"
    }
   ],
   "source": [
    "# 最大正方形  需要维护3个数组  向上的0的个数 向左的0的个数 左上角的边长  边长+1和他们两个的最小值\n",
    "def max_square(nums):\n",
    "    raw = len(nums)\n",
    "    col = len(nums[0])\n",
    "    dp = [[0 for j in range(col)] for i in range(raw)]\n",
    "    for i in range(raw):\n",
    "        for j in range(col):\n",
    "            dp[i][j] = int(nums[i][j])\n",
    "    up = [[0 for i in range(col)] for _ in range(raw)]\n",
    "    left = [[0 for i in range(col)] for _ in range(raw)]\n",
    "    for i in range(len(nums)):\n",
    "        for j in range(len(nums[0])):\n",
    "            l_value = 0\n",
    "            u_value = 0\n",
    "            k = j\n",
    "            while k>=0 and nums[i][k] == '1':\n",
    "                k -= 1\n",
    "                l_value += 1\n",
    "            left[i][j] = l_value\n",
    "            q = i\n",
    "            while q>=0 and nums[q][j] == '1':\n",
    "                q -= 1\n",
    "                u_value += 1\n",
    "            up[i][j] = u_value\n",
    "    dp[0][0] = int(nums[0][0])\n",
    "    for i in range(1, raw):\n",
    "        for j in range(1, col):\n",
    "            dp[i][j] = min(dp[i-1][j-1]+1, left[i][j], up[i][j])\n",
    "#     print(left)\n",
    "#     print(up)\n",
    "#     print(dp)\n",
    "    return max(max(dp, key=max))**2\n",
    "\n",
    "# max_square([[\"1\",\"0\",\"1\",\"0\",\"0\"],[\"1\",\"0\",\"1\",\"1\",\"1\"],[\"1\",\"1\",\"1\",\"1\",\"1\"],[\"1\",\"0\",\"0\",\"1\",\"0\"]])\n",
    "max_square([\n",
    "  [\"1\",\"0\",\"1\",\"0\",\"0\"],\n",
    "  [\"1\",\"0\",\"1\",\"1\",\"1\"],\n",
    "  [\"1\",\"1\",\"1\",\"1\",\"1\"],\n",
    "  [\"1\",\"0\",\"0\",\"1\",\"0\"]\n",
    "])\n",
    "max_square([[\"0\",\"1\"]])\n",
    "#     for i in range()"
   ]
  },
  {
   "cell_type": "code",
   "execution_count": 1,
   "metadata": {},
   "outputs": [
    {
     "name": "stdout",
     "output_type": "stream",
     "text": [
      "[[0, 0, 0, 0, 0, 0, 0, 0, 0, 0, 0], [0, 0, 1, 2, 4, 6, 8, 10, 12, 0, 16], [0, 0, 0, 2, 3, 6, 8, 10, 12, 0, 16], [0, 0, 0, 0, 3, 4, 8, 10, 12, 0, 16], [0, 0, 0, 0, 0, 4, 5, 10, 12, 0, 16], [0, 0, 0, 0, 0, 0, 5, 6, 12, 0, 16], [0, 0, 0, 0, 0, 0, 0, 6, 7, 0, 16], [0, 0, 0, 0, 0, 0, 0, 0, 7, 0, 16], [0, 0, 0, 0, 0, 0, 0, 0, 0, 0, 9], [0, 0, 0, 0, 0, 0, 0, 0, 0, 0, 9], [0, 0, 0, 0, 0, 0, 0, 0, 0, 0, 0]]\n"
     ]
    },
    {
     "data": {
      "text/plain": [
       "16"
      ]
     },
     "execution_count": 1,
     "metadata": {},
     "output_type": "execute_result"
    }
   ],
   "source": [
    "#猜数字2  最小需要钱数猜出来  TL 递归方式不行\n",
    "def getMoneyAmount(n):\n",
    "    def inner(dp, i, j):\n",
    "#         print(i, j)\n",
    "        if i >= j:\n",
    "            return 0\n",
    "        elif dp[i][j]:  #如果已经更改过，就可以不动了，加上这个可以少运行一些\n",
    "            return dp[i][j]\n",
    "        else:\n",
    "            dp[i][j] = float('inf')\n",
    "            for k in range(i, j):\n",
    "                left = inner(dp, i, k-1)\n",
    "                right = inner(dp, k+1, j)\n",
    "                temp = max(left, right) + k #选左边和右边中大的费用（最少花费）\n",
    "                dp[i][j] = min(temp, dp[i][j]) \n",
    "            return dp[i][j]\n",
    "    dp = [[0 for _ in range(n+1)] for _ in range(n+1)]\n",
    "    inner(dp, 1, n)\n",
    "#     print(dp)\n",
    "    return dp[1][n]\n",
    "getMoneyAmount(10)"
   ]
  },
  {
   "cell_type": "code",
   "execution_count": 2,
   "metadata": {},
   "outputs": [
    {
     "name": "stdout",
     "output_type": "stream",
     "text": [
      "3 4\n",
      "2 3\n",
      "2 4\n",
      "1 2\n",
      "1 3\n",
      "1 4\n",
      "[[0, 0, 0, 0, 0], [0, 0, 1, 2, 4], [0, 0, 0, 2, 3], [0, 0, 0, 0, 3], [0, 0, 0, 0, 0]]\n"
     ]
    },
    {
     "data": {
      "text/plain": [
       "4"
      ]
     },
     "execution_count": 2,
     "metadata": {},
     "output_type": "execute_result"
    }
   ],
   "source": [
    "def getMoneyAmount(n): #改成迭代方式\n",
    "    \"\"\"\n",
    "    :type n: int\n",
    "    :rtype: int\n",
    "    \"\"\"\n",
    "    need = [[0] * (n + 1) for _ in range(n + 1)]\n",
    "    for low in range(n, 0, -1):\n",
    "        for high in range(low + 1, n + 1):\n",
    "            print(low, high)\n",
    "            need[low][high] = min(x + max(need[low][x-1], need[x+1][high]) for x in range(low, high))\n",
    "    print(need)\n",
    "    return need[1][n]\n",
    "getMoneyAmount(4) "
   ]
  },
  {
   "cell_type": "markdown",
   "metadata": {
    "collapsed": true
   },
   "source": [
    "## 01 背包问题"
   ]
  },
  {
   "cell_type": "code",
   "execution_count": 16,
   "metadata": {},
   "outputs": [
    {
     "name": "stdout",
     "output_type": "stream",
     "text": [
      "[0, 0, 0, 0, 0, 0, 0, 0, 0]\n",
      "[0, 0, 3, 3, 3, 3, 3, 3, 3]\n",
      "[0, 0, 3, 4, 4, 7, 7, 7, 7]\n",
      "[0, 0, 3, 4, 5, 7, 8, 9, 9]\n",
      "[0, 0, 3, 4, 5, 7, 8, 9, 10]\n"
     ]
    }
   ],
   "source": [
    "def pack1(w, v, C): #每个东西只能选择一次\n",
    "    dp = [[0 for _ in range(C+1)] for _ in range(len(w)+1)]\n",
    "    for i in range(1, len(w)+1):\n",
    "        for j in range(1, C+1):\n",
    "            if j < w[i-1]:\n",
    "                dp[i][j] = dp[i-1][j]\n",
    "            else:\n",
    "                dp[i][j] = max(dp[i-1][j], dp[i-1][j-w[i-1]]+ v[i-1])\n",
    "#     print(dp)\n",
    "    for i in dp:\n",
    "        print(i)\n",
    "# pack1([2,2,6,5,4], [6,3,5,4,6], 10)\n",
    "# print('')\n",
    "pack1([2,3,4,5], [3,4,5,6], 8)"
   ]
  },
  {
   "cell_type": "code",
   "execution_count": 16,
   "metadata": {},
   "outputs": [
    {
     "name": "stdout",
     "output_type": "stream",
     "text": [
      "[0, -inf, -inf, -inf, -inf, -inf, -inf, -inf, -inf]\n",
      "[0, -inf, 3, -inf, -inf, -inf, -inf, -inf, -inf]\n",
      "[0, -inf, 3, 4, -inf, 7, -inf, -inf, -inf]\n",
      "[0, -inf, 3, 4, 5, 7, 8, 9, -inf]\n",
      "[0, -inf, 3, 4, 5, 7, 8, 9, 10]\n"
     ]
    }
   ],
   "source": [
    "def pack1(w, v, C): #初始化不同，这种需要枚举最大值\n",
    "                    #代表的是把容量恰好用完\n",
    "    dp = [[float('-inf') for _ in range(C+1)] for _ in range(len(w)+1)]\n",
    "    for i in range(len(w)+1):\n",
    "        for j in range(C+1):\n",
    "            if j==0:\n",
    "                dp[i][j] = 0\n",
    "    for i in range(1, len(w)+1):\n",
    "        for j in range(1, C+1):\n",
    "            if j < w[i-1]:\n",
    "                dp[i][j] = dp[i-1][j]\n",
    "            else:\n",
    "                dp[i][j] = max(dp[i-1][j], dp[i-1][j-w[i-1]]+ v[i-1])\n",
    "    for i in dp:\n",
    "        print(i)\n",
    "# pack1([2,2,6,5,4], [6,3,5,4,6], 10)\n",
    "# print('')\n",
    "pack1([2,3,4,5], [3,4,5,6], 8)"
   ]
  },
  {
   "cell_type": "code",
   "execution_count": 19,
   "metadata": {},
   "outputs": [
    {
     "name": "stdout",
     "output_type": "stream",
     "text": [
      "[0, 0, 0, 0, 0, 0, 0, 0, 0]\n",
      "[0, 0, 3, 3, 6, 6, 9, 9, 12]\n",
      "[0, 0, 3, 4, 6, 7, 9, 10, 12]\n",
      "[0, 0, 3, 4, 6, 7, 9, 10, 12]\n",
      "[0, 0, 3, 4, 6, 7, 9, 10, 12]\n"
     ]
    }
   ],
   "source": [
    "def pack2(w, v, C): #每个东西能选择多次 完全背包问题\n",
    "    dp = [[0 for _ in range(C+1)] for _ in range(len(w)+1)]\n",
    "    for i in range(1, len(w)+1):\n",
    "        for j in range(1, C+1):\n",
    "            if j < w[i-1]:\n",
    "                dp[i][j] = dp[i-1][j]\n",
    "            else:\n",
    "                dp[i][j] = max(dp[i-1][j], dp[i][j-w[i-1]]+ v[i-1]) #只是把这列dp[i-1]... -> dp[i]...\n",
    "#     print(dp)                                                     #可以选择的东西数量不变，重量减去选择一件后\n",
    "    for i in dp:\n",
    "        print(i)\n",
    "# pack1([2,2,6,5,4], [6,3,5,4,6], 10)\n",
    "# print('')\n",
    "pack2([2,3,4,5], [3,4,5,6], 8)"
   ]
  },
  {
   "cell_type": "code",
   "execution_count": 27,
   "metadata": {},
   "outputs": [
    {
     "name": "stdout",
     "output_type": "stream",
     "text": [
      "[1, 1, 2, 3, 1, 2, 3, 4, 2, 1, 2, 3, 3, 2]\n"
     ]
    },
    {
     "data": {
      "text/plain": [
       "2"
      ]
     },
     "execution_count": 27,
     "metadata": {},
     "output_type": "execute_result"
    }
   ],
   "source": [
    "# 如果我们想知道n=15的方法数，我们可以转换为求n=14的方法数、n=11的方法数\n",
    "# n=6的方法数,然后他们中间取最小值+1，即是15的方法数。\n",
    "#TL 超时   JAVA打败60%\n",
    "#所有平方数加起来， 使用平方数数量最少\n",
    "import math\n",
    "def prefect_square(n):\n",
    "    op = [float('inf') for _ in range(n+1)]\n",
    "    for i in range(n+1):\n",
    "        if is_square(i):\n",
    "            op[i] = 1\n",
    "        j = 1\n",
    "        while j * j < i:\n",
    "            op[i] = min(op[i-j*j] + 1, op[i])\n",
    "            j += 1\n",
    "    print(op)\n",
    "    return op[-1]\n",
    "def is_square(n):\n",
    "    ret = int(math.sqrt(n))\n",
    "    return ret * ret == n\n",
    "prefect_square(13)\n",
    "# print(is_square(4))"
   ]
  },
  {
   "cell_type": "code",
   "execution_count": 53,
   "metadata": {},
   "outputs": [
    {
     "name": "stdout",
     "output_type": "stream",
     "text": [
      "[1, 2, 1, 1, 2, 3, 1]\n"
     ]
    },
    {
     "data": {
      "text/plain": [
       "3"
      ]
     },
     "execution_count": 53,
     "metadata": {},
     "output_type": "execute_result"
    }
   ],
   "source": [
    "#300 最长上升子序列   [10,9,2,5,3,7,101,18] 输出: 4 解释: 最长的上升子序列是 [2,3,7,101]，它的长度是 4。\n",
    "def lengthOfLIS(nums):\n",
    "    if not nums:\n",
    "        return 0\n",
    "    dp = [1 for _ in range(len(nums))]\n",
    "    ret = 1\n",
    "    for i in range(1, len(nums)):\n",
    "        max_dp = 0\n",
    "        for j in range(i):\n",
    "            if nums[j] < nums[i]:   # 对nums[i]操作的时候 跟每个之前的值比较，如果小就进行操作\n",
    "                max_dp = max(max_dp, dp[j])# 找到小于这个值得所有dp值中最大的 ，给他加1\n",
    "        dp[i] = max_dp + 1\n",
    "        ret = max(ret, dp[i]) #dp不是前i个最长上升，是以第i元素为结尾的最长子序列\n",
    "    print(dp)\n",
    "    return ret\n",
    "lengthOfLIS([4,10,4,3,8,9, 1])\n",
    "# long_as([0])"
   ]
  },
  {
   "cell_type": "code",
   "execution_count": 22,
   "metadata": {},
   "outputs": [
    {
     "name": "stdout",
     "output_type": "stream",
     "text": [
      "[[  0.   0.   0.   0.   0.   0.   0.   0.   0.   0.   0.   0.   0.   0.]\n",
      " [  0.   1.   1.   1.   1.   1.   1.   1.   1.   1.   1.   1.   1.   1.]\n",
      " [  0.   1.   1.   3.   4.   4.   4.   4.   4.   4.   4.   4.   4.   4.]\n",
      " [  0.   1.   1.   3.   4.   5.   6.   6.   8.   9.   9.   9.   9.   9.]\n",
      " [  0.   1.   1.   3.   4.   5.   6.   6.   8.   9.  10.  10.  12.  13.]]\n",
      "True\n"
     ]
    }
   ],
   "source": [
    "def k_sum(nums, target): #背包问题稍微改一改就能解决k_sum问题  吧重量和价值变成一样，返回最后一个数==target\n",
    "    import numpy as np  #前i个元素能组成的最大数（重量）（在最接近给定重量的情况下）\n",
    "    dp = np.zeros((len(nums)+1, target+1))#比如说dp[4,5] 可选4个物体，容量最大的5情况下得到的价值最大，这里容量\n",
    "#     dp[:, 0] = True                    #和价值相等，就<=5中最大的，如果==5的话 就说明正好能取到5，能找到数加起来\n",
    "#     dp[1, nums[0]] = True             #等于5\n",
    "    for i in range(1, len(nums)+1):\n",
    "        for j in range(1, target+1):\n",
    "            if j < nums[i-1]:\n",
    "                dp[i, j] = dp[i-1, j]\n",
    "            else:\n",
    "                dp[i, j] = max(dp[i-1, j-nums[i-1]]+nums[i-1], dp[i-1, j])\n",
    "    print(dp)\n",
    "    return dp[-1][-1] == target\n",
    "# print(k_sum([1,2,3, 5, 9], 1))\n",
    "print(k_sum([1,3, 5, 9], 13))\n",
    "# print(k_sum([1,2,3, 5, 9], 12))\n",
    "# print(k_sum([1,2,3, 5, 9], 11))"
   ]
  },
  {
   "cell_type": "code",
   "execution_count": 21,
   "metadata": {},
   "outputs": [
    {
     "data": {
      "text/plain": [
       "True"
      ]
     },
     "execution_count": 21,
     "metadata": {},
     "output_type": "execute_result"
    }
   ],
   "source": [
    "#416. 分割等和子集   TL解法 JAVA通过\n",
    "def canPartition(nums):\n",
    "    \"\"\"\n",
    "    :type nums: List[int]\n",
    "    :rtype: bool\n",
    "    \"\"\"\n",
    "    target = sum(nums)\n",
    "    if target % 2 == 1:\n",
    "        return False\n",
    "    else:\n",
    "        target = int(target/2)\n",
    "        dp = [[0 for _ in range(target+1)] for _ in range(len(nums)+1)]\n",
    "        for i in range(1, len(nums)+1):\n",
    "            for j in range(1, target+1):\n",
    "                if j < nums[i-1]:\n",
    "                    dp[i][j] = dp[i-1][j]\n",
    "                else:\n",
    "                    dp[i][j] = max(dp[i-1][j-nums[i-1]]+nums[i-1], dp[i-1][j])\n",
    "        # print(dp)\n",
    "        return dp[-1][-1] == target\n",
    "canPartition([22,])"
   ]
  },
  {
   "cell_type": "code",
   "execution_count": 109,
   "metadata": {},
   "outputs": [
    {
     "name": "stdout",
     "output_type": "stream",
     "text": [
      "-1\n"
     ]
    }
   ],
   "source": [
    "# 322\n",
    "def coinChange(coins, amount):\n",
    "    dp = [[float('inf') for _ in range(amount+1)] for _ in range(len(coins)+1)]\n",
    "    for i in range(len(coins)+1):\n",
    "        for j in range(amount+1):\n",
    "            if j == 0:\n",
    "                dp[i][j] = 0\n",
    "    for i in range(1, len(coins)+1):\n",
    "        for j in range(1, amount+1):\n",
    "            if j-coins[i-1] < 0:\n",
    "                dp[i][j] = dp[i-1][j]        \n",
    "            else:\n",
    "                dp[i][j] = min(dp[i-1][j], dp[i][j-coins[i-1]]+1)  \n",
    "    if dp[-1][-1] == float('inf'):\n",
    "        return -1\n",
    "    return dp[-1][-1]\n",
    "print(coinChange([6, 2], 7))\n",
    "# print(k_sum([3,6], 8))\n",
    "# print(k_sum([2,5,10,1], 27))\n",
    "# print(k_sum([3,6], 10))\n",
    "# print(k_sum([3,6], 11))\n",
    "# print(k_sum([3,6], 12))\n",
    "# print(k_sum([3,6], 13))\n",
    "# print(k_sum([3,6], 14))\n"
   ]
  },
  {
   "cell_type": "code",
   "execution_count": 94,
   "metadata": {},
   "outputs": [
    {
     "name": "stdout",
     "output_type": "stream",
     "text": [
      "[0, 1, 1, 2, 2, 1, 2, 2, 3, 3, 2, 3]\n",
      "3\n"
     ]
    }
   ],
   "source": [
    "def coinChange(coins, amount):\n",
    "    \"\"\"\n",
    "    :type coins: List[int]\n",
    "    :type amount: int\n",
    "    :rtype: int\n",
    "    \"\"\"\n",
    "    dp=[-1]*(amount+1)\n",
    "    dp[0]=0\n",
    "    for i in range(1,amount+1):\n",
    "        for j in range(0,len(coins)):\n",
    "            if i>=coins[j] and dp[i-coins[j]]!=-1:\n",
    "                if dp[i]==-1 or dp[i]>dp[i-coins[j]]+1:\n",
    "                    dp[i]=dp[i-coins[j]]+1\n",
    "    print(dp)\n",
    "    return dp[amount]\n",
    "# coinChange([2,5,10,1], 27)\n",
    "print(k_sum([1, 2, 5], 11))"
   ]
  },
  {
   "cell_type": "code",
   "execution_count": 86,
   "metadata": {},
   "outputs": [
    {
     "name": "stdout",
     "output_type": "stream",
     "text": [
      "[0, 1, 2, 3, 4, 5, 6, 7, 8, 9, 10, 11]\n",
      "[0, 1, 1, 2, 2, 3, 3, 4, 4, 5, 5, 6]\n",
      "[0, 1, 1, 2, 2, 1, 2, 2, 3, 3, 2, 3]\n",
      "3\n"
     ]
    }
   ],
   "source": [
    "def coinChange(coins, amount):\n",
    "    \"\"\"\n",
    "    :type coins: List[int]\n",
    "    :type amount: int\n",
    "    :rtype: int\n",
    "    \"\"\" \n",
    "    mem = [float('inf')]*(amount+1)\n",
    "    mem[0] = 0\n",
    "    for coin in coins:\n",
    "        for j in range(coin, amount+1):\n",
    "            mem[j] = min(mem[j], mem[j - coin] + 1) #这个像是竖着填表 先得到每一列最小的，再用这个去算右面的\n",
    "        print(mem)\n",
    "    return -1 if mem[-1] > amount else mem[-1]\n",
    "print(coinChange([1, 2, 5], 11))\n",
    "# coinChange([2,5,10,1], 27)"
   ]
  },
  {
   "cell_type": "code",
   "execution_count": 27,
   "metadata": {},
   "outputs": [
    {
     "data": {
      "text/plain": [
       "3"
      ]
     },
     "execution_count": 27,
     "metadata": {},
     "output_type": "execute_result"
    }
   ],
   "source": [
    "#647 计算这个字符串中有多少个回文子串\n",
    "# \"abc\"输出: 3 解释: 三个回文子串: \"a\", \"b\", \"c\".\n",
    "#  \"aaa\"输出: 6 说明: 6个回文子串: \"a\", \"a\", \"a\", \"aa\", \"aa\", \"aaa\".\n",
    "def countSubstrings(s):\n",
    "    \"\"\"\n",
    "    :type s: str\n",
    "    :rtype: int\n",
    "    \"\"\"\n",
    "    dp = [i+1 for i in range(len(s))]\n",
    "    for i in range(1, len(s)):\n",
    "        count = 0\n",
    "        dp[i] = dp[i-1] + 1   #每一个都是前面+1个基础上  再算和前面哪个组成回文子串 组成一个就加1\n",
    "        for j in range(i):\n",
    "            if s[j:i+1] == s[j:i+1][::-1]:\n",
    "                count += 1\n",
    "        dp[i] += count\n",
    "#     print(dp)\n",
    "    return dp[-1]\n",
    "countSubstrings('abc')"
   ]
  },
  {
   "cell_type": "code",
   "execution_count": 32,
   "metadata": {
    "collapsed": true,
    "scrolled": true
   },
   "outputs": [],
   "source": [
    "#648. 单词替换\n",
    "#输入: dict(词典) = [\"cat\", \"bat\", \"rat\"]\n",
    "# sentence(句子) = \"the cattle was rattled by the battery\"\n",
    "# 输出: \"the cat was rat by the bat\"\n",
    "def replaceWords(dict, sentence): #变成list 原地修改后 再组合回来\n",
    "    \"\"\"\n",
    "    :type dict: List[str]\n",
    "    :type sentence: str\n",
    "    :rtype: str\n",
    "    \"\"\"\n",
    "    sen = sentence.split()\n",
    "    # ret = []\n",
    "    dict.sort(key=len)\n",
    "    for i in range(len(sen)):\n",
    "        for word in dict:\n",
    "            if sen[i].startswith(word):\n",
    "                sen[i] = sen[i][:len(word)]\n",
    "                # ret.append(c)\n",
    "                break\n",
    "    return ' '.join(sen)"
   ]
  },
  {
   "cell_type": "code",
   "execution_count": 13,
   "metadata": {},
   "outputs": [
    {
     "name": "stdout",
     "output_type": "stream",
     "text": [
      "[0, 0, 1, 2, 12, 12, 24, 36]\n"
     ]
    },
    {
     "data": {
      "text/plain": [
       "36"
      ]
     },
     "execution_count": 13,
     "metadata": {},
     "output_type": "execute_result"
    }
   ],
   "source": [
    "#343 整数拆分\n",
    "def integerBreak(n):\n",
    "    dp = [0 for _ in range(n+1)]\n",
    "    if n == 2:\n",
    "        return 1\n",
    "    elif n == 3:\n",
    "        return 2\n",
    "    else:\n",
    "        dp[2] = 1\n",
    "        dp[3] = 2\n",
    "        for i in range(4, n+1):\n",
    "            dp[i] = max((n-2) * 2, (n-3)*3, dp[i-2]*2, dp[i-3]*3) #如果最大值是dp的  就是说明是前面堆起来的再*2\n",
    "        print(dp)                                        #或者可能直接是(n-2)*2 (n-3)*3\n",
    "    return dp[-1]\n",
    "integerBreak(7)"
   ]
  },
  {
   "cell_type": "code",
   "execution_count": null,
   "metadata": {
    "collapsed": true
   },
   "outputs": [],
   "source": [
    "#377. 组合总和 Ⅳ\n",
    "def combinationSum4(nums, target):\n",
    "    dp = [[[] for _ in range(target+1)] for _ in range(len(nums)+1)]\n",
    "    "
   ]
  },
  {
   "cell_type": "code",
   "execution_count": 16,
   "metadata": {},
   "outputs": [
    {
     "data": {
      "text/plain": [
       "True"
      ]
     },
     "execution_count": 16,
     "metadata": {},
     "output_type": "execute_result"
    }
   ],
   "source": [
    "def canPartitionKSubsets(nums, k):\n",
    "    \"\"\"\n",
    "    :type nums: List[int]\n",
    "    :type k: int\n",
    "    :rtype: bool\n",
    "    \"\"\"\n",
    "    if len(nums) < k:\n",
    "        return False\n",
    "    elif len(nums) == k:\n",
    "        flag = 0\n",
    "        for k in range(len(nums)-1):\n",
    "            if nums[k] == nums[k+1]:\n",
    "                flag += 1\n",
    "        if flag == len(nums) - 1:\n",
    "            return True\n",
    "        else:\n",
    "            return False\n",
    "    ret = nums[:k]\n",
    "    for i in range(k, len(nums)):\n",
    "        flag = 0\n",
    "        ret.append(nums[i])\n",
    "        ret.sort()\n",
    "        a1 = ret.pop(0)\n",
    "        a2 = ret.pop(0)\n",
    "        ret.append(a1+a2)\n",
    "#         print(ret)\n",
    "        for k in range(len(ret)-1):\n",
    "            if ret[k] == ret[k+1]:\n",
    "                flag += 1\n",
    "        if flag == len(ret) - 1:\n",
    "            return True \n",
    "    return False\n",
    "canPartitionKSubsets([1,1,1,2,2,1], k = 4)"
   ]
  },
  {
   "cell_type": "code",
   "execution_count": 7,
   "metadata": {},
   "outputs": [
    {
     "name": "stdout",
     "output_type": "stream",
     "text": [
      "[0, 1, 2, 3]\n",
      "[1, 1, 2, 3]\n",
      "[2, 2, 1, 2]\n",
      "[3, 2, 2, 2]\n",
      "[4, 3, 3, 2]\n",
      "[5, 4, 4, 3]\n"
     ]
    },
    {
     "data": {
      "text/plain": [
       "3"
      ]
     },
     "execution_count": 7,
     "metadata": {},
     "output_type": "execute_result"
    }
   ],
   "source": [
    "# 定义状态：dp[i][j]:第一个串的第i个位置与第二个串的第j个位置之前需要操作几次达到相等。\n",
    "# 之后，如果word1[i] = word2[j]，如果相等的话，那么就不用替换，也不要增删，操作次数直接等于dp[i-1][j-1]。\n",
    "# 如果不等于：那么就有三种情况，\n",
    "# 一种是删删第一个串一个字符到状态dp[i-1][j]，\n",
    "# 第二中是删第二个串一个字符到dp[i][j-1]，\n",
    "# 第三种是替换一个字符使得两个字符相等。这三种操作都只进行一次。\n",
    "# 那么转移方程为：dp[i][j] = min(dp[i-1][j-1],min(dp[i-1][j],dp[i][j-1]))+1;\n",
    "# 72 题 编辑距离\n",
    "def minDistance(word1, word2):\n",
    "    n = len(word1)\n",
    "    m = len(word2)\n",
    "\n",
    "    dp = [[0]*(m+1) for x in range(n+1)]     #dp[i][j]是word1的长度i位置替换world2的长度j位置所需要的编辑距离\n",
    "\n",
    "    for i in range(0,n+1):\n",
    "        for j in range(0,m+1):\n",
    "            if i == 0:\n",
    "                dp[0][j] = j\n",
    "            elif j ==0:\n",
    "                dp[i][0] = i\n",
    "            else:\n",
    "                if word1[i-1] == word2[j-1]:\n",
    "                    dp[i][j] = dp[i-1][j-1]\n",
    "\n",
    "                else:\n",
    "                    dp[i][j] = min(dp[i-1][j-1], dp[i-1][j], dp[i][j-1])+ 1\n",
    "    for i in dp:\n",
    "        print(i)\n",
    "    return dp[n][m]\n",
    "minDistance('horse', 'ros')"
   ]
  },
  {
   "cell_type": "code",
   "execution_count": 12,
   "metadata": {},
   "outputs": [
    {
     "name": "stdout",
     "output_type": "stream",
     "text": [
      "[0, -inf, -inf, -inf, -inf, -inf, -inf, -inf, -inf, -inf, -inf]\n",
      "[0, -inf, 3, -inf, -inf, -inf, -inf, -inf, -inf, -inf, -inf]\n",
      "[0, -inf, 3, 4, -inf, 7, -inf, -inf, -inf, -inf, -inf]\n",
      "[0, -inf, 3, 4, -inf, 7, 5, -inf, 8, 9, -inf]\n",
      "[0, -inf, 3, 4, -inf, 7, 5, 9, 10, 9, 13]\n"
     ]
    }
   ],
   "source": [
    "def pack1(w, v, C): #每个东西只能选择一次\n",
    "    dp = [[float('-inf') for _ in range(C+1)] for _ in range(len(w)+1)]\n",
    "    for i in range(len(w)+1):\n",
    "        for j in range(C+1):\n",
    "            if j==0:\n",
    "                dp[i][j] = 0\n",
    "#     dp[0][0] = 0\n",
    "    for i in range(1, len(w)+1):\n",
    "        for j in range(1, C+1):\n",
    "            if j < w[i-1]:\n",
    "                dp[i][j] = dp[i-1][j]\n",
    "            else:\n",
    "                dp[i][j] = max(dp[i-1][j], dp[i-1][j-w[i-1]]+ v[i-1])\n",
    "#     print(dp)\n",
    "    for i in dp:\n",
    "        print(i)\n",
    "# pack1([2,2,6,5,4], [6,3,5,4,6], 10)\n",
    "# print('')\n",
    "pack1([2,3,6,5], [3,4,5,6], 10)"
   ]
  },
  {
   "cell_type": "code",
   "execution_count": 13,
   "metadata": {},
   "outputs": [
    {
     "data": {
      "text/plain": [
       "0"
      ]
     },
     "execution_count": 13,
     "metadata": {},
     "output_type": "execute_result"
    }
   ],
   "source": [
    "class Solution: #TL\n",
    "    def findTargetSumWays(self, nums, S):\n",
    "        \"\"\"\n",
    "        :type nums: List[int]\n",
    "        :type S: int\n",
    "        :rtype: int\n",
    "        \"\"\"\n",
    "        s = (sum(nums) + S) // 2\n",
    "        if 2 * s != sum(nums)+S:\n",
    "            return 0\n",
    "        dp = [float('-inf') for _ in range(int(s)+1)]\n",
    "        ret = [0 for _ in range(s+1)]\n",
    "        ret[0] = 1\n",
    "        dp[0] = 0\n",
    "        for i in range(1, len(nums)+1):\n",
    "            for j in reversed(range(s+1)):\n",
    "                if j-nums[i-1] >= 0:\n",
    "                    ss = max(dp[j], dp[j-nums[i-1]]+nums[i-1])\n",
    "                    temp = 0\n",
    "                    if dp[j] == ss:\n",
    "                        temp += ret[j]\n",
    "                    if dp[j-nums[i-1]]+nums[i-1] ==  ss:\n",
    "                        temp += ret[j-nums[i-1]]\n",
    "                    dp[j] = ss\n",
    "                    ret[j] = temp\n",
    "#                     print(temp)\n",
    "#             print(ret)\n",
    "        return ret[-1]\n",
    "#         print(ret)\n",
    "#         print(dp)\n",
    "# Solution().findTargetSumWays([1,1,1,1,1], 3)\n",
    "Solution().findTargetSumWays([1], 2)"
   ]
  },
  {
   "cell_type": "code",
   "execution_count": 5,
   "metadata": {},
   "outputs": [
    {
     "name": "stdout",
     "output_type": "stream",
     "text": [
      "[1, 1, 1, 1, 1]\n",
      "[1, 2, 3, 4, 5]\n",
      "[1, 3, 6, 10, 15]\n",
      "[1, 4, 10, 20, 35]\n",
      "[1, 5, 15, 35, 70]\n"
     ]
    },
    {
     "data": {
      "text/plain": [
       "70"
      ]
     },
     "execution_count": 5,
     "metadata": {},
     "output_type": "execute_result"
    }
   ],
   "source": [
    "class Solution:\n",
    "    def findTargetSumWays(self, nums, S):\n",
    "        \"\"\"\n",
    "        :type nums: List[int]\n",
    "        :type S: int\n",
    "        :rtype: int\n",
    "        \"\"\"\n",
    "        sum_nums = sum(nums)\n",
    "        if sum_nums < S or (S + sum_nums)%2 != 0:\n",
    "            return 0\n",
    "\n",
    "        target = (S + sum_nums) >> 1\n",
    "        mem = [0]*(target + 1)\n",
    "        mem[0] = 1\n",
    "        for num in nums:\n",
    "#             for i in range(target, num-1, -1):\n",
    "            for i in range(num, target+1):\n",
    "                mem[i] += mem[i - num]\n",
    "            print(mem)\n",
    "        return mem[target]\n",
    "Solution().findTargetSumWays([1,1,1,1,1], 3)"
   ]
  },
  {
   "cell_type": "code",
   "execution_count": 7,
   "metadata": {},
   "outputs": [
    {
     "name": "stdout",
     "output_type": "stream",
     "text": [
      "[1, 1, 1, 1, 1]\n",
      "[1, 1, 2, 2, 3]\n",
      "[1, 1, 2, 3, 4]\n"
     ]
    },
    {
     "data": {
      "text/plain": [
       "4"
      ]
     },
     "execution_count": 7,
     "metadata": {},
     "output_type": "execute_result"
    }
   ],
   "source": [
    "def zuhe_shu(nums, target):\n",
    "    mem = [0]*(target + 1)\n",
    "    mem[0] = 1\n",
    "    for num in nums:\n",
    "    #             for i in range(target, num-1, -1):\n",
    "        for i in range(num, target+1):\n",
    "            mem[i] += mem[i - num]\n",
    "        print(mem)\n",
    "    return mem[target]\n",
    "zuhe_shu([1,2,3], 4)"
   ]
  },
  {
   "cell_type": "code",
   "execution_count": 1,
   "metadata": {
    "scrolled": true
   },
   "outputs": [
    {
     "name": "stdout",
     "output_type": "stream",
     "text": [
      "['', '', '', '', '', '', '', '']\n",
      "[0, 0, 0, 0, 0, 0, 0, 0]\n",
      "['', '', 'B', 'B', 'B', 'B', 'B', 'B']\n",
      "[0, 0, 1, 1, 1, 1, 1, 1]\n",
      "['', '', 'B', 'B', 'B', 'BD', 'BD', 'BD']\n",
      "[0, 0, 1, 1, 1, 2, 2, 2]\n",
      "['', '', 'B', 'BC', 'BC', 'BD', 'BD', 'BD']\n",
      "[0, 0, 1, 2, 2, 2, 2, 2]\n",
      "['', 'A', 'B', 'BC', 'BC', 'BD', 'BDA', 'BDA']\n",
      "[0, 1, 1, 2, 2, 2, 3, 3]\n",
      "['', 'A', 'AB', 'BC', 'BCB', 'BCB', 'BDA', 'BDAB']\n",
      "[0, 1, 2, 2, 3, 3, 3, 4]\n",
      "['', 'A', 'AB', 'BC', 'BCB', 'BCB', 'BCBA', 'BDAB']\n",
      "[0, 1, 2, 2, 3, 3, 4, 4]\n"
     ]
    }
   ],
   "source": [
    "#最长公共子序列 ，给定连个字符串 求最长的相交的，可以不连续\n",
    "def long(A, B):\n",
    "    dp = [[0 for _ in range(len(B)+1)] for _ in range(len(A)+1)]\n",
    "    ret = [['' for _ in range(len(B)+1)] for _ in range(len(A)+1)]\n",
    "    for i in range(1, len(A)+1):\n",
    "        for j in range(1, len(B)+1):\n",
    "            if A[i-1] == B[j-1]:\n",
    "#                 ret += A[i-1]\n",
    "                if i-1 >= 0 and j-1 >= 0:\n",
    "                    dp[i][j] = dp[i-1][j-1] + 1\n",
    "                    ret[i][j] = ret[i-1][j-1] + A[i-1]\n",
    "            else:\n",
    "                if dp[i][j-1]>dp[i-1][j]:\n",
    "                    dp[i][j] = dp[i][j-1]\n",
    "                    ret[i][j] = ret[i][j-1]\n",
    "                else:\n",
    "                    ret[i][j] = ret[i-1][j]\n",
    "                    dp[i][j] = dp[i-1][j]\n",
    "    for i in range(len(ret)):\n",
    "        print(ret[i])\n",
    "        print(dp[i])\n",
    "#     print(dp)\n",
    "long('BDCABA', \"ABCBDAB\")"
   ]
  },
  {
   "cell_type": "code",
   "execution_count": null,
   "metadata": {
    "collapsed": true
   },
   "outputs": [],
   "source": []
  }
 ],
 "metadata": {
  "kernelspec": {
   "display_name": "Python 3",
   "language": "python",
   "name": "python3"
  },
  "language_info": {
   "codemirror_mode": {
    "name": "ipython",
    "version": 3
   },
   "file_extension": ".py",
   "mimetype": "text/x-python",
   "name": "python",
   "nbconvert_exporter": "python",
   "pygments_lexer": "ipython3",
   "version": "3.6.2"
  }
 },
 "nbformat": 4,
 "nbformat_minor": 2
}
