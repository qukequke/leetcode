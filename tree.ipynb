{
 "cells": [
  {
   "cell_type": "code",
   "execution_count": null,
   "metadata": {
    "collapsed": true
   },
   "outputs": [],
   "source": [
    "#101. Symmetric Tree Leetcode Python\n",
    "# Definition for a  binary tree node  \n",
    "# class TreeNode:  \n",
    "#     def __init__(self, x):  \n",
    "#         self.val = x  \n",
    "#         self.left = None  \n",
    "#         self.right = None  \n",
    "  \n",
    "class Solution:  \n",
    "    # @param root, a tree node  \n",
    "    # @return a boolean  \n",
    "    def sym(self,left,right):  \n",
    "        if left==None and right==None:  \n",
    "            return True  \n",
    "        if left and right and left.val==right.val:  \n",
    "            return self.sym(left.left,right.right) and self.sym(left.right,right.left)  \n",
    "        else:  \n",
    "            return False  \n",
    "              \n",
    "    def isSymmetric(self, root):  \n",
    "        if root==None:  \n",
    "            return True  \n",
    "        return self.sym(root.left,root.right)     "
   ]
  }
 ],
 "metadata": {
  "kernelspec": {
   "display_name": "Python 3",
   "language": "python",
   "name": "python3"
  },
  "language_info": {
   "codemirror_mode": {
    "name": "ipython",
    "version": 3
   },
   "file_extension": ".py",
   "mimetype": "text/x-python",
   "name": "python",
   "nbconvert_exporter": "python",
   "pygments_lexer": "ipython3",
   "version": "3.6.2"
  }
 },
 "nbformat": 4,
 "nbformat_minor": 2
}
